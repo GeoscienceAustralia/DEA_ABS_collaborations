{
 "cells": [
  {
   "cell_type": "markdown",
   "metadata": {},
   "source": [
    "# Tabulation of Fractional Cover data within tiled shapefile polygons"
   ]
  },
  {
   "cell_type": "markdown",
   "metadata": {
    "ExecuteTime": {
     "end_time": "2019-02-04T04:13:20.577632Z",
     "start_time": "2019-02-04T04:13:20.554372Z"
    }
   },
   "source": [
    "**What does this notebook do?**\n",
    "\n",
    "This notebook is a pilot collaboration between Geoscience Australia and Australian Bureau of Statistics. The purpose of the notebook is to use a shapefile that contains \"tiled\" SA2 boundaries (explained within requirements section, below) to load Fractional Cover (FC) dataset, complete zonal statistics for each SA2 boundary, and then tabulate monthly and annual results. Tabulated results show the percentage of the SA2 area that is classified as green vegetation (Photosythetic vegetation (PV)), brown vegetation (Non-Photosythetic vegetation (NPV)), bare soil (BS), water (open surface water), or unclassified (cloud or other).\n",
    "\n",
    "This workflow has been created to run large SA2 within memory on the VDI and uses pre-tiled SA2 polygons as an input. Once the monthly tabulation script is complete the workflow reads the tabulated results and calculates annual results and quality metrics. \n",
    "\n",
    "**Requirements**\n",
    "\n",
    "A shapefile that contains **tiled** SA2 polygons. The Intersect tool in ArcGIS was used to break the large (>20 000 km2) SA2 into Australian Albers 100 km by 100 km tiles.\n",
    "\n",
    "You need to run the following commands from the command line prior to launching jupyter notebooks from the same terminal so that the required libraries and paths are set:\n",
    "\n",
    "`module use /g/data/v10/public/modules/modulefiles`\n",
    "\n",
    "`module load dea/20181213`\n",
    "\n",
    "\n",
    "**Background**\n",
    "\n",
    "Data from the Landsat 5,7 and 8 satellite missions are accessible through Digital Earth Australia (DEA). The code snippets in this notebook will let you retrieve and tabulate the FC data stored in DEA.\n",
    "\n",
    "\n",
    "**How to use this notebook**\n",
    "\n",
    "A basic understanding of any programming language is desirable but one doesn't have to be an expert Python programmer to manipulate the code to get and display the data.This doc applies to the following Landsat satellites, Fractional Cover bands and the WOfS dataset:\n",
    "\n",
    "- Landsat 5\n",
    "- Landsat 7\n",
    "- Landsat 8\n",
    "- PV - Photosythetic vegetation\n",
    "- NPV - Non-Photosythetic vegetation\n",
    "- BS - Bare Soil\n",
    "- UE - Unmixing Error\n",
    "- Water Observations from Space (WOFs)\n",
    "- WOfS Feature Layer (WOFL)\n",
    "\n",
    "**Bugs still to fix**\n",
    "-  NA\n",
    "\n",
    "**Errors or bugs**\n",
    "\n",
    "If you find an error or bug in this notebook, please contact erin.telfer@ga.gov.au.\n"
   ]
  },
  {
   "cell_type": "markdown",
   "metadata": {},
   "source": [
    "## 1. Import Libraries"
   ]
  },
  {
   "cell_type": "code",
   "execution_count": null,
   "metadata": {
    "ExecuteTime": {
     "end_time": "2019-09-15T23:14:45.008287Z",
     "start_time": "2019-09-15T23:14:40.170522Z"
    }
   },
   "outputs": [],
   "source": [
    "%matplotlib inline\n",
    "\n",
    "from datetime import time, datetime\n",
    "import os.path\n",
    "\n",
    "from matplotlib import pyplot as plt\n",
    "import pandas as pd\n",
    "import numpy\n",
    "import csv\n",
    "import xarray as xr\n",
    "import rasterio\n",
    "import rasterio.features\n",
    "import fiona\n",
    "from datetime import datetime\n",
    "import dask\n",
    "from dask.delayed import delayed\n",
    "from dask.distributed import LocalCluster, Client\n",
    "import tempfile\n",
    "\n",
    "import datacube\n",
    "from datacube import Datacube\n",
    "from datacube.virtual import construct, construct_from_yaml\n",
    "from datacube.utils.geometry import CRS"
   ]
  },
  {
   "cell_type": "code",
   "execution_count": null,
   "metadata": {
    "ExecuteTime": {
     "end_time": "2019-09-15T23:14:45.018155Z",
     "start_time": "2019-09-15T23:14:45.012741Z"
    }
   },
   "outputs": [],
   "source": [
    "#What years are you interested in?\n",
    "start_year = 2015\n",
    "end_year = 2017\n",
    "\n",
    "#Enter input batch details to help track each run of the code\n",
    "initials = 'ET' #initial of the person running the code\n",
    "batch_sa2_size = '20000_to_30000km2' #if you have split the SA2 into smaller subsets of data by size, add size range\n",
    "run_date = '16Aug19' #the date today\n",
    "run_notes = 'Rerun of SA2 between 20,000 to 30,000 km2 for the date range 2015 to 2017' #a brief note to describe the run"
   ]
  },
  {
   "cell_type": "markdown",
   "metadata": {},
   "source": [
    "## 2. USER INPUT"
   ]
  },
  {
   "cell_type": "markdown",
   "metadata": {
    "ExecuteTime": {
     "end_time": "2019-05-30T05:21:00.322146Z",
     "start_time": "2019-05-30T05:21:00.316563Z"
    }
   },
   "source": [
    "## 3. Set directory and shapefile details"
   ]
  },
  {
   "cell_type": "code",
   "execution_count": null,
   "metadata": {
    "ExecuteTime": {
     "end_time": "2019-09-15T23:14:45.029353Z",
     "start_time": "2019-09-15T23:14:45.022213Z"
    }
   },
   "outputs": [],
   "source": [
    "#Set folder location and the name of the \"tiled\" shapefile\n",
    "shapefile_path = '/g/data/r78/ext547/abs/input/SA_2016_clipped_albers_3577_allSA2.shp'\n",
    "#Set output folder\n",
    "output_path = '/g/data/r78/ext547/abs/output/'\n",
    "#Save variable name for output csv\n",
    "name_of_output_file =f'tabulate_FC_{run_date}_{batch_sa2_size}_{start_year}_{end_year}'"
   ]
  },
  {
   "cell_type": "code",
   "execution_count": null,
   "metadata": {
    "ExecuteTime": {
     "end_time": "2019-09-15T23:14:45.042018Z",
     "start_time": "2019-09-15T23:14:45.032388Z"
    }
   },
   "outputs": [],
   "source": [
    "#Years of interest are saved in expected format\n",
    "time_range = (str(start_year), str(end_year))\n",
    "print(time_range)"
   ]
  },
  {
   "cell_type": "markdown",
   "metadata": {},
   "source": [
    "## 4. Set up a local dask cluster\n",
    "Some calculations take more memory than is available on a system.  By breaking the data up into chunks, we can chain a sequence of operations together, and work on the data a small piece at a time.\n",
    "\n",
    "This lets several processes work at the same time, and manage total memory usage for the calculations.\n",
    "\n",
    "In more advanced setups, we can distribute the work across multiple computers, using all of their memory and CPU power.\n",
    "\n",
    "* We set `n_workers` to be the number of worker applications we want to run in the background, doing the processing of the chunk-based steps we have chained together.\n",
    "* The `mem_per_worker` setting defines how much memory at most is available to each of the workers.\n",
    "* `chunk_size` sets the width and height of the chunk in pixels of the size will break up the data into.\n",
    "\n",
    "VDI has 8 CPUs available, and a total of 32GB of memory, but you will typically be sharing those with several (2-10) other users.   "
   ]
  },
  {
   "cell_type": "code",
   "execution_count": null,
   "metadata": {
    "ExecuteTime": {
     "end_time": "2019-09-15T23:14:46.030518Z",
     "start_time": "2019-09-15T23:14:46.022179Z"
    }
   },
   "outputs": [],
   "source": [
    "#Set up dask cluster\n",
    "n_workers = 7\n",
    "threads_per_worker=1\n",
    "mem_per_worker = 8e9  # 8e9 is 8GB (8,000,000,000 bytes)\n",
    "by_slice=True\n",
    "chunk_size = {'time': 1, 'x': 2000, 'y': 2000}"
   ]
  },
  {
   "cell_type": "code",
   "execution_count": null,
   "metadata": {
    "ExecuteTime": {
     "end_time": "2019-09-15T23:14:50.682430Z",
     "start_time": "2019-09-15T23:14:46.666322Z"
    }
   },
   "outputs": [],
   "source": [
    "cluster = LocalCluster(local_dir=tempfile.gettempdir(), \n",
    "                       n_workers=n_workers, \n",
    "                       threads_per_worker=threads_per_worker,\n",
    "                       memory_limit=mem_per_worker)\n",
    "client = Client(cluster)\n",
    "dask.config.set(get=client.get)\n",
    "client"
   ]
  },
  {
   "cell_type": "markdown",
   "metadata": {},
   "source": [
    "We also get a dashboard to see how the system is running, by clicking the link above after the cell has been run."
   ]
  },
  {
   "cell_type": "markdown",
   "metadata": {},
   "source": [
    "## 5. Connect to the Datacube "
   ]
  },
  {
   "cell_type": "code",
   "execution_count": null,
   "metadata": {
    "ExecuteTime": {
     "end_time": "2019-09-15T23:14:51.589823Z",
     "start_time": "2019-09-15T23:14:50.687591Z"
    }
   },
   "outputs": [],
   "source": [
    "dc = Datacube()"
   ]
  },
  {
   "cell_type": "markdown",
   "metadata": {},
   "source": [
    "## 6. Construct the virtual product"
   ]
  },
  {
   "cell_type": "code",
   "execution_count": null,
   "metadata": {
    "ExecuteTime": {
     "end_time": "2019-09-15T23:14:51.605821Z",
     "start_time": "2019-09-15T23:14:51.596759Z"
    }
   },
   "outputs": [],
   "source": [
    "#Remove Landsat 7 scenes with the Scan Line Correction (SLC) missing data\n",
    "LS7_BROKEN_DATE = datetime(2003, 5, 31)\n",
    "is_pre_slc_failure = lambda dataset: dataset.center_time < LS7_BROKEN_DATE"
   ]
  },
  {
   "cell_type": "code",
   "execution_count": null,
   "metadata": {
    "ExecuteTime": {
     "end_time": "2019-09-15T23:14:51.616635Z",
     "start_time": "2019-09-15T23:14:51.609763Z"
    }
   },
   "outputs": [],
   "source": [
    "#Create function to ensure wofls in correct format\n",
    "def wofls_fuser(dest, src):\n",
    "    where_nodata = (src & 1) == 0\n",
    "    numpy.copyto(dest, src, where=where_nodata)\n",
    "    return dest"
   ]
  },
  {
   "cell_type": "code",
   "execution_count": null,
   "metadata": {
    "ExecuteTime": {
     "end_time": "2019-09-15T23:14:51.634840Z",
     "start_time": "2019-09-15T23:14:51.620133Z"
    }
   },
   "outputs": [],
   "source": [
    "#Create virtual product so that datacube data can be loaded effectively within memory\n",
    "fc_and_water_yaml = \"\"\"\n",
    "        juxtapose:\n",
    "          - collate:\n",
    "              - transform: apply_mask\n",
    "                mask_measurement_name: pixelquality\n",
    "                preserve_dtype: false\n",
    "                input:\n",
    "                    juxtapose:\n",
    "                      - product: ls5_fc_albers\n",
    "                        group_by: solar_day\n",
    "                        measurements: [PV, NPV, BS]\n",
    "                      - transform: make_mask\n",
    "                        input:\n",
    "                            product: ls5_pq_albers\n",
    "                            group_by: solar_day\n",
    "                            fuse_func: datacube.helpers.ga_pq_fuser\n",
    "                        flags:\n",
    "                            ga_good_pixel: true\n",
    "                        mask_measurement_name: pixelquality\n",
    "              - transform: apply_mask\n",
    "                mask_measurement_name: pixelquality\n",
    "                preserve_dtype: false\n",
    "                input:\n",
    "                    juxtapose:\n",
    "                      - product: ls7_fc_albers\n",
    "                        group_by: solar_day\n",
    "                        measurements: [PV, NPV, BS]\n",
    "                        # dataset_predicate: __main__.is_pre_slc_failure\n",
    "                      - transform: make_mask\n",
    "                        input:\n",
    "                            product: ls7_pq_albers\n",
    "                            group_by: solar_day\n",
    "                            fuse_func: datacube.helpers.ga_pq_fuser\n",
    "                        flags:\n",
    "                            ga_good_pixel: true\n",
    "                        mask_measurement_name: pixelquality\n",
    "              - transform: apply_mask\n",
    "                mask_measurement_name: pixelquality\n",
    "                preserve_dtype: false\n",
    "                input:\n",
    "                    juxtapose:\n",
    "                      - product: ls8_fc_albers\n",
    "                        group_by: solar_day\n",
    "                        measurements: [PV, NPV, BS]\n",
    "                      - transform: make_mask\n",
    "                        input:\n",
    "                            product: ls8_pq_albers\n",
    "                            group_by: solar_day\n",
    "                            fuse_func: datacube.helpers.ga_pq_fuser\n",
    "                        flags:\n",
    "                            ga_good_pixel: true\n",
    "                        mask_measurement_name: pixelquality\n",
    "          - transform: make_mask\n",
    "            input:\n",
    "                product: wofs_albers\n",
    "                group_by: solar_day\n",
    "                fuse_func: __main__.wofls_fuser\n",
    "            flags:\n",
    "                wet: true\n",
    "            mask_measurement_name: water\n",
    "\"\"\"\n",
    "fc_and_water = construct_from_yaml(fc_and_water_yaml)"
   ]
  },
  {
   "cell_type": "markdown",
   "metadata": {},
   "source": [
    "## 7. Set up functions"
   ]
  },
  {
   "cell_type": "code",
   "execution_count": null,
   "metadata": {
    "ExecuteTime": {
     "end_time": "2019-09-15T23:14:52.191806Z",
     "start_time": "2019-09-15T23:14:52.168155Z"
    }
   },
   "outputs": [],
   "source": [
    "def geometry_mask(geoms, geobox, all_touched=False, invert=False, chunks=None):\n",
    "    \"\"\"\n",
    "    Create a mask from shapes.\n",
    "\n",
    "    By default, mask is intended for use as a\n",
    "    numpy mask, where pixels that overlap shapes are False.\n",
    "    :param list[Geometry] geoms: geometries to be rasterized\n",
    "    :param datacube.utils.GeoBox geobox:\n",
    "    :param bool all_touched: If True, all pixels touched by geometries will be burned in. If\n",
    "                             false, only pixels whose center is within the polygon or that\n",
    "                             are selected by Bresenham's line algorithm will be burned in.\n",
    "    :param bool invert: If True, mask will be True for pixels that overlap shapes.\n",
    "    \"\"\"\n",
    "    data = rasterio.features.geometry_mask([geom.to_crs(geobox.crs) for geom in geoms],\n",
    "                                           out_shape=geobox.shape,\n",
    "                                           transform=geobox.affine,\n",
    "                                           all_touched=all_touched,\n",
    "                                           invert=invert)\n",
    "    if chunks is not None:\n",
    "        data = dask.array.from_array(data, chunks=tuple(chunks[d] for d in geobox.dims))\n",
    "        \n",
    "    coords = [xr.DataArray(data=coord.values, name=dim, dims=[dim], attrs={'units': coord.units}) \n",
    "              for dim, coord in geobox.coords.items()]\n",
    "    return xr.DataArray(data, coords=coords)"
   ]
  },
  {
   "cell_type": "code",
   "execution_count": null,
   "metadata": {
    "ExecuteTime": {
     "end_time": "2019-09-15T23:14:52.653929Z",
     "start_time": "2019-09-15T23:14:52.646481Z"
    }
   },
   "outputs": [],
   "source": [
    "def get_shapes(shape_file):\n",
    "    \"\"\"\n",
    "    Extract spatial inforamtion from polygons within shapefile\n",
    "    \"\"\"\n",
    "    with fiona.open(shape_file) as shapes:\n",
    "        crs = datacube.utils.geometry.CRS(shapes.crs_wkt)\n",
    "        for shape in shapes:\n",
    "            if shape['geometry'] is None:\n",
    "                continue\n",
    "            geom = datacube.utils.geometry.Geometry(shape['geometry'], crs=crs)\n",
    "            geom = geom.to_crs(CRS('EPSG:3577'))\n",
    "            yield geom, shape['properties']"
   ]
  },
  {
   "cell_type": "code",
   "execution_count": null,
   "metadata": {
    "ExecuteTime": {
     "end_time": "2019-09-15T23:14:53.229973Z",
     "start_time": "2019-09-15T23:14:53.212176Z"
    }
   },
   "outputs": [],
   "source": [
    "def fc_and_water_summary(data, mask_int):\n",
    "    \"\"\"\n",
    "    Calculate the percentage and the area of each FC component, \n",
    "    water, and unclassified data within each SA2 boundary. \n",
    "    \"\"\"\n",
    "    # Where there is water, set the FC bands to 0%\n",
    "    valid_data = numpy.isfinite(data['BS'])\n",
    "    fc = data[['PV', 'NPV', 'BS']].where(data.water==0, other=0)\n",
    "    fc['water'] = data.water.where(valid_data) * numpy.float32(100)\n",
    "    fc = fc.apply(lambda data_array: data_array.clip(0, 100).where(valid_data))\n",
    "    has_data = valid_data.groupby(valid_data.time.astype('datetime64[M]'), squeeze=False).sum(dim='time', skipna=False)\n",
    "    has_data = has_data.sum(dim=['x','y'], skipna=True)\n",
    "\n",
    "    # Flatten to a monthly mean\n",
    "    fc = fc.groupby(fc.time.astype('datetime64[M]'), squeeze=False).mean(dim='time', skipna=True)\n",
    "    \n",
    "    # Calculate percentage of cover based on area of mask\n",
    "    percentage = fc.sum(dim=['x','y']) * (100 / mask_int)\n",
    "    for da in percentage.data_vars.values():\n",
    "        da.attrs['units'] = '%'\n",
    "    fc['mask_int'] = mask_int \n",
    "    \n",
    "    #Calculate area of fc components\n",
    "    pixel_area_in_metres2 = 25 * 25\n",
    "    m2_to_km2 = (1 / 1_000_000)\n",
    "    percent_to_fraction = (1 / 100)\n",
    "    area = (fc * (pixel_area_in_metres2 * m2_to_km2 * percent_to_fraction)).sum(dim=['x','y'])\n",
    "    area = area.rename({'BS': 'BS_area', \n",
    "                        'PV': 'PV_area', \n",
    "                        'NPV': 'NPV_area', \n",
    "                        'water': 'water_area',\n",
    "                        'mask_int':'mask_area',})\n",
    "\n",
    "    for da in area.data_vars.values():\n",
    "        da.attrs['units'] = 'km^2'\n",
    "    fc = percentage.merge(area)\n",
    "    fc['average_data_count'] = has_data\n",
    "    fc['mask_int'] = mask_int\n",
    "\n",
    "    return fc"
   ]
  },
  {
   "cell_type": "code",
   "execution_count": null,
   "metadata": {
    "ExecuteTime": {
     "end_time": "2019-09-15T23:14:54.074852Z",
     "start_time": "2019-09-15T23:14:54.061874Z"
    }
   },
   "outputs": [],
   "source": [
    "def month_splitter(start_year, end_year_inclusive):\n",
    "    \"\"\" \n",
    "    Split specified years into months \n",
    "    \"\"\"\n",
    "    yield from (str(p) for p in pd.period_range(start=pd.Period(start_year).start_time, \n",
    "                               end=pd.Period(end_year_inclusive).end_time, \n",
    "                               freq='M'))"
   ]
  },
  {
   "cell_type": "code",
   "execution_count": null,
   "metadata": {
    "ExecuteTime": {
     "end_time": "2019-09-15T23:14:54.700983Z",
     "start_time": "2019-09-15T23:14:54.690853Z"
    }
   },
   "outputs": [],
   "source": [
    "def output_csv(input_ds, sa2_id, sa2_name, sa2_size, albers_id,name_of_output_file, monthly_or_annual='frequency'):\n",
    "    \"\"\"\n",
    "    Save tabulated data into a csv\n",
    "    \"\"\"\n",
    "    input_ds = input_ds.to_dataframe()\n",
    "    input_ds.insert(0,'SA2_id', sa2_id)\n",
    "    input_ds.insert(1,'SA2_name', sa2_name)\n",
    "    input_ds.insert(2,'albers_id', albers_id)\n",
    "    input_ds.insert(3,'SA2_size', sa2_size)\n",
    "    input_ds.to_csv(f\"{output_path}/{name_of_output_file}_{monthly_or_annual}.csv\",mode='a',header=False)  "
   ]
  },
  {
   "cell_type": "code",
   "execution_count": null,
   "metadata": {
    "ExecuteTime": {
     "end_time": "2019-09-15T23:14:55.306692Z",
     "start_time": "2019-09-15T23:14:55.288031Z"
    }
   },
   "outputs": [],
   "source": [
    "#create FC tabulation function\n",
    "monthly_values = None #ensure this list is actually empty\n",
    "\n",
    "def process_area(geometry, sa2_id, sa2_name, sa2_size, albers_id, name_of_output_file, time_range):\n",
    "    \"\"\" loop through each month within the time range and load fc data with virtual products, \n",
    "    mask to tiled SA2 boundary, tabulate monthly results and append to output.\n",
    "    \"\"\"\n",
    "    monthly_values = []\n",
    "    annual_values = []\n",
    "    mask = None\n",
    "    \n",
    "    # Set geometry values to use Virtual Products, use this instead of `geopolygon=geometry` \n",
    "    search_terms = {\n",
    "        'x': (geometry.envelope.left, geometry.envelope.right),\n",
    "        'y': (geometry.envelope.top, geometry.envelope.bottom),\n",
    "        'crs': str(geometry.crs), }  \n",
    "\n",
    "    #loop through months within the date range\n",
    "    for sub_time_range in month_splitter(time_range[0], time_range[-1]):\n",
    "        print(sub_time_range)\n",
    "        \n",
    "        #load fc data using Virtual Products\n",
    "        try:\n",
    "            data = fc_and_water.load(dc, dask_chunks=chunk_size, \n",
    "                                     time=sub_time_range, \n",
    "                                     **search_terms)\n",
    "        #if there is no data within this month, skip the load, and continue a load with the next month\n",
    "        except ValueError:\n",
    "            print(f'    No data for {sub_time_range} , skipping...')\n",
    "            continue\n",
    "        \n",
    "        #mask data with tiled SA2 polygon to remove data that is outside of the polygon\n",
    "        if mask is None:\n",
    "            mask = geometry_mask([geometry], data.geobox, invert=True, chunks=data.chunks)\n",
    "            mask_int = mask * 1 #turn variable into an int\n",
    "            mask_int = mask_int.sum() * 100 #create a varaible that counts the number of pixels within the tiles SA2 polygon\n",
    "        data = data.where(mask) \n",
    "        \n",
    "        #use function to tabulate fc components\n",
    "        monthly_data = fc_and_water_summary(data, mask_int)\n",
    "        #load data into memory from dask\n",
    "        monthly_data = client.compute(monthly_data, sync=by_slice)\n",
    "        #append monthly results into a list that contains the values for all other months \n",
    "        monthly_values.append(monthly_data)\n",
    "    \n",
    "    #concatenate the monthly results together into an xarray    \n",
    "    monthly_values = xr.concat(monthly_values, dim='time')\n",
    "    \n",
    "    #append results to a csv\n",
    "    print(\"All data loaded, save to csv\")\n",
    "    output_csv(monthly_values, sa2_id, sa2_name, sa2_size,albers_id, name_of_output_file, monthly_or_annual='monthly')\n",
    "       \n",
    "    print(f\"SA2 {sa2_id} done\")"
   ]
  },
  {
   "cell_type": "markdown",
   "metadata": {},
   "source": [
    "## 8. Set up the query\n",
    "For each year and polygon query the product, apply the geometry mask and compute the fractional cover stats\n",
    "\n",
    "Using `client.compute()` lets us use the monthly results in calculating the annual results at the same time."
   ]
  },
  {
   "cell_type": "code",
   "execution_count": null,
   "metadata": {
    "ExecuteTime": {
     "end_time": "2019-09-15T23:15:07.500781Z",
     "start_time": "2019-09-15T23:14:56.710175Z"
    }
   },
   "outputs": [],
   "source": [
    "#The following code does not need to be edited.\n",
    "\n",
    "#Obtain spatial information from shapefile\n",
    "shape_file = os.path.expanduser(f'{shapefile_path}')\n",
    "shapes = list(get_shapes(shape_file))\n",
    "\n",
    "#A list of sa2 that do not have a spatial footprint (e.g. \"Migratory - Offshore - Shipping\" OR \"No usual address\") \n",
    "#or SA2 that are outside of the DEA coverage, e.g. Christmas Island or Norfolk Island. \n",
    "sa2_outside_DEA = ['901011001', '108031161', '901021002', '901041004', \n",
    "                   '197979799', '199999499', '297979799', '299999499', \n",
    "                   '397979799', '399999499', '497979799', '499999499', \n",
    "                   '597979799', '599999499', '697979799', '699999499', \n",
    "                   '797979799', '799999499', '897979799', '899999499', \n",
    "                   '997979799', '999999499']\n",
    "\n",
    "#remove the SA2 that are outside of the coverage of DEA FC dataset\n",
    "for sa2_outside in sa2_outside_DEA:\n",
    "    shapes = [(g,p) for g, p in shapes if str(p['SA2_MAIN16']) != sa2_outside]\n",
    "\n",
    "print(len(shapes))"
   ]
  },
  {
   "cell_type": "code",
   "execution_count": null,
   "metadata": {
    "ExecuteTime": {
     "end_time": "2019-09-15T23:15:07.557331Z",
     "start_time": "2019-09-15T23:15:07.505803Z"
    }
   },
   "outputs": [],
   "source": [
    "#The follow code allows the use to choose one specific SA2 base. Hash/unhash the specific line of code.\n",
    "#The user can filter by things such as SA2 ID, or SA2 size.\n",
    "\n",
    "# shapes = [(g,p) for g, p in shapes if str(p['SA2_MAIN16']) == '801041120'] #choose based on SA2 ID\n",
    "# shapes = [(g,p) for g, p in shapes if int(p['AREASQKM16']) <= 0.99]  #choose based on SA2 size, smaller than value\n",
    "shapes = [(g,p) for g, p in shapes if 20000 < int(p['AREASQKM16']) <= 30000] #choose based on SA2 size, between two value\n",
    "\n",
    "print(len(shapes))"
   ]
  },
  {
   "cell_type": "markdown",
   "metadata": {},
   "source": [
    "## 9. Create empty CSVs to save results"
   ]
  },
  {
   "cell_type": "code",
   "execution_count": null,
   "metadata": {
    "ExecuteTime": {
     "end_time": "2019-09-15T23:15:07.582203Z",
     "start_time": "2019-09-15T23:15:07.561455Z"
    }
   },
   "outputs": [],
   "source": [
    "#Create empty CSV with specified headings\n",
    "header = ['DATE','SA2_MAIN16', 'SA2_NAME16', 'ALBERS3577_ID', 'AREASQKM16',\n",
    "          'PV_PERCENTAGE','NPV_PERCENTAGE','BS_PERCENTAGE','WOFL_PERCENTAGE',\n",
    "          'PV_AREA_SQKM_ALBERS3577','NPV_AREA_SQKM_ALBERS3577',\n",
    "          'BS_AREA_SQKM_ALBERS3577','WOFL_AREA_SQKM_ALBERS3577','FC_AREA_SQKM_ALBERS3577', \n",
    "          'AVERAGE_OBSERVATION_COUNT','SA2_TILE_PIXEL_COUNT']\n",
    "\n",
    "error_header = ['','RUN_NAME','SA2_MAIN16','DATE_RANGE','ERROR_MESSAGE']\n",
    "\n",
    "#Create an empty CSV for monthly results    \n",
    "with open(f\"{output_path}/{name_of_output_file}_monthly.csv\",\"w\") as outcsv:\n",
    "    writer = csv.writer(outcsv)\n",
    "    writer.writerow(header)\n",
    "\n",
    "#Create csv to save error output\n",
    "with open(f\"{output_path}/{name_of_output_file}_error_log.csv\",\"w\") as outcsv: \n",
    "    writer = csv.writer(outcsv)\n",
    "    writer.writerow(error_header)  "
   ]
  },
  {
   "cell_type": "markdown",
   "metadata": {},
   "source": [
    "## 10. Run tabulation script"
   ]
  },
  {
   "cell_type": "code",
   "execution_count": null,
   "metadata": {
    "ExecuteTime": {
     "end_time": "2019-09-15T23:17:13.671752Z",
     "start_time": "2019-09-15T23:15:07.585524Z"
    },
    "scrolled": false
   },
   "outputs": [],
   "source": [
    "#Run the tabulation process while saving metadata for the run.\n",
    "#The script loops through each SA2 and tabulates the FC results, saving to csv.\n",
    "#additionally the script has been set up to save run metadata and error information (if any)\n",
    "\n",
    "#save batch/run metadata\n",
    "run_start = datetime.now().strftime('%Y-%m-%d %H:%M:%S')\n",
    "count_of_sa2_complete = 0\n",
    "count_of_sa2_error = 0\n",
    "count_of_sa2_all = 0\n",
    "sa2_min_size = 500_000_000\n",
    "sa2_max_size = 0\n",
    "\n",
    "#append batch information to csv in order to record the start of the run\n",
    "batch_start_information = pd.DataFrame([[name_of_output_file],[run_notes],[initials],[run_start]]).T\n",
    "batch_start_information.to_csv(f\"{output_path}/tabulate_FC_run_log.csv\",mode='a',header=False) \n",
    "\n",
    "#run the tabulation script for all of the tiled SA2 polygons\n",
    "for geometry, properties in shapes:\n",
    "    count_of_sa2_all += 1 #metadata\n",
    "    print(count_of_sa2_all)\n",
    "    #save information from shapefile\n",
    "    sa2_id = str(properties['SA2_MAIN16'])\n",
    "    sa2_name = str(properties['SA2_NAME16'])\n",
    "    sa2_size = str(properties['AREASQKM16'])\n",
    "    albers_id = str(properties['label'])\n",
    "    print(f\"SA2 ID: {sa2_id}, Albers tile: {albers_id}, SA2 size: {sa2_size}km^2, time: {time_range}\")\n",
    "        \n",
    "    #loop through SA2 size and save the smallest and largest SA2 values\n",
    "    if float(sa2_min_size) > float(sa2_size):\n",
    "        sa2_min_size = sa2_size #metadata\n",
    "    if float(sa2_max_size) < float(sa2_size):\n",
    "        sa2_max_size = sa2_size #metadata\n",
    "    \n",
    "    #loop through months and tabulate FC results\n",
    "    try:\n",
    "        process_area(geometry, sa2_id, sa2_name, sa2_size, albers_id, name_of_output_file, time_range)\n",
    "        count_of_sa2_complete += 1      \n",
    "    #if there are errors, save information to csv to record the name of SA2 and type of error\n",
    "    except Exception as e:\n",
    "            print(f\"Could not process {sa2_id}: {e}\")\n",
    "            error_information = pd.DataFrame([[name_of_output_file],[sa2_id],[time_range], [e]]).T\n",
    "            error_information.to_csv(f\"{output_path}/{name_of_output_file}_error_log.csv\",mode='a',header=False)\n",
    "            count_of_sa2_error += 1\n",
    "            \n",
    "            \n",
    "#save batch/run information\n",
    "run_end = datetime.now().strftime('%Y-%m-%d %H:%M:%S')\n",
    "run_seconds = (datetime.strptime(run_end,'%Y-%m-%d %H:%M:%S') - datetime.strptime(run_start,'%Y-%m-%d %H:%M:%S')).total_seconds()\n",
    "\n",
    "#save run/batch information to csv\n",
    "batch_information = pd.DataFrame([[name_of_output_file],[run_notes],[initials],\n",
    "                                  [run_start],[run_end],[run_seconds],[sa2_max_size],\n",
    "                                  [sa2_min_size],[time_range],[count_of_sa2_all],\n",
    "                                  [count_of_sa2_complete], [count_of_sa2_error],]).T\n",
    "#output batch information to record the end of the run\n",
    "batch_information.to_csv(f\"{output_path}/tabulate_FC_run_log.csv\",mode='a',header=False)"
   ]
  },
  {
   "cell_type": "markdown",
   "metadata": {},
   "source": [
    "## 11. Combine results for tiled SA2 to generate \"all of SA2\" results"
   ]
  },
  {
   "cell_type": "code",
   "execution_count": null,
   "metadata": {
    "ExecuteTime": {
     "end_time": "2019-08-16T06:05:46.841007Z",
     "start_time": "2019-08-16T06:05:45.652340Z"
    },
    "scrolled": true
   },
   "outputs": [],
   "source": [
    "#read area results of previous workflow and combine tiled results for each SA2\n",
    "\n",
    "#read csv results and format into csv\n",
    "df_in = pd.read_csv(f\"{output_path}/{name_of_output_file}_monthly.csv\", header=0)\n",
    "df_in['DATE'] = pd.to_datetime(df_in['DATE'])\n",
    "df = df_in[['DATE','SA2_MAIN16', 'SA2_NAME16','ALBERS3577_ID', 'AREASQKM16',\n",
    "            'PV_AREA_SQKM_ALBERS3577','NPV_AREA_SQKM_ALBERS3577',\n",
    "           'BS_AREA_SQKM_ALBERS3577','WOFL_AREA_SQKM_ALBERS3577',\n",
    "            'FC_AREA_SQKM_ALBERS3577','AVERAGE_OBSERVATION_COUNT','SA2_TILE_PIXEL_COUNT']]\n",
    "\n",
    "#group data to combine tiled results into whole of sa2 results\n",
    "df = df.groupby(['SA2_MAIN16','DATE','SA2_NAME16','AREASQKM16']).sum()\n",
    "\n",
    "#calculate the percentage of each FC componenet in relation to the whole size of SA2\n",
    "df['PV_PERCENTAGE']= df.PV_AREA_SQKM_ALBERS3577/df.FC_AREA_SQKM_ALBERS3577 *100\n",
    "df['NPV_PERCENTAGE']= df.NPV_AREA_SQKM_ALBERS3577/df.FC_AREA_SQKM_ALBERS3577 *100\n",
    "df['BS_PERCENTAGE']= df.BS_AREA_SQKM_ALBERS3577/df.FC_AREA_SQKM_ALBERS3577 *100\n",
    "df['WOFL_PERCENTAGE']= df.WOFL_AREA_SQKM_ALBERS3577/df.FC_AREA_SQKM_ALBERS3577 *100\n",
    "\n",
    "#calculate the percentage of SA2 that isn't classified as fc components (e.g. cloud)\n",
    "df['UNCLASSIFIED_PERCENTAGE']= 100 - (df.PV_PERCENTAGE + df.NPV_PERCENTAGE + df.BS_PERCENTAGE + df.WOFL_PERCENTAGE)\n",
    "unclass_area = df['UNCLASSIFIED_PERCENTAGE'] * (df['FC_AREA_SQKM_ALBERS3577']/100)\n",
    "\n",
    "#reformat results\n",
    "df.insert(7,'UNCLASSIFIED_AREA_SQKM_ALBERS3577',unclass_area)\n",
    "df = df.reset_index(level=['DATE','AREASQKM16','SA2_NAME16','SA2_MAIN16'])\n",
    "\n",
    "#calculate the \"no data\" quality metric\n",
    "no_data_qm = df.groupby([df.SA2_NAME16, df.DATE.dt.year]).count()\n",
    "no_data_qm = no_data_qm.iloc[:,:1]\n",
    "no_data_qm.rename(columns={'SA2_MAIN16':'MONTHS_WITH_NO_DATA'},inplace=True)\n",
    "no_data_qm = 12 - no_data_qm\n",
    "\n",
    "# remove all months that contain >10% unclassified\n",
    "df = df.where(df.UNCLASSIFIED_PERCENTAGE <= 10).dropna()\n",
    "\n",
    "#take a mean of all months within each year\n",
    "annual_df = df.groupby([df.SA2_NAME16, df.DATE.dt.year]).mean()\n",
    "\n",
    "#calculate \"low data\" quality metric\n",
    "low_data_qm = df.groupby([df.SA2_NAME16, df.DATE.dt.year]).count()\n",
    "low_data_qm = low_data_qm.iloc[:,:1]\n",
    "low_data_qm.rename(columns={'SA2_MAIN16':'MONTHS_WITH_LOW_DATA'},inplace=True)\n",
    "low_data_qm = 12 - low_data_qm\n",
    "\n",
    "#Concetenate fc, and quality metrics together\n",
    "annual_df_with_qm = pd.concat([annual_df,low_data_qm, no_data_qm],axis=1,join='inner')\n",
    "\n",
    "#calculate \"average observation quality metric\"\n",
    "ave_obs_qm = df.groupby([df.SA2_NAME16, df.DATE.dt.year]).sum()['AVERAGE_OBSERVATION_COUNT'] \n",
    "ave_obs_qm = ave_obs_qm/(annual_df_with_qm['SA2_TILE_PIXEL_COUNT']/100)\n",
    "\n",
    "#reformat and add the average observation count metric\n",
    "annual_df_with_qm.pop('AVERAGE_OBSERVATION_COUNT')\n",
    "annual_df_with_qm ['AVERAGE_OBSERVATION_COUNT'] = ave_obs_qm\n",
    "annual_df_with_qm.pop('SA2_TILE_PIXEL_COUNT')\n",
    "\n",
    "#save annual results as csv\n",
    "annual_df_with_qm.to_csv(f'{output_path}/{name_of_output_file}_annual.csv')"
   ]
  },
  {
   "cell_type": "code",
   "execution_count": null,
   "metadata": {
    "ExecuteTime": {
     "end_time": "2019-08-16T06:05:46.903138Z",
     "start_time": "2019-08-16T06:05:46.845644Z"
    },
    "scrolled": true
   },
   "outputs": [],
   "source": [
    "#look at annual results\n",
    "annual_df_with_qm"
   ]
  },
  {
   "cell_type": "code",
   "execution_count": null,
   "metadata": {},
   "outputs": [],
   "source": []
  }
 ],
 "metadata": {
  "kernelspec": {
   "display_name": "Python [default]",
   "language": "python",
   "name": "python3"
  },
  "language_info": {
   "codemirror_mode": {
    "name": "ipython",
    "version": 3
   },
   "file_extension": ".py",
   "mimetype": "text/x-python",
   "name": "python",
   "nbconvert_exporter": "python",
   "pygments_lexer": "ipython3",
   "version": "3.6.6"
  }
 },
 "nbformat": 4,
 "nbformat_minor": 2
}
