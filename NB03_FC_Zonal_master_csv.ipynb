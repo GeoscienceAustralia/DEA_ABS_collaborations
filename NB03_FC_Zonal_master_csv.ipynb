{
 "cells": [
  {
   "cell_type": "markdown",
   "metadata": {},
   "source": [
    "# Combine csv results from the FC Zonal Statistics workflow"
   ]
  },
  {
   "cell_type": "markdown",
   "metadata": {},
   "source": [
    "This notebook has been created to take the csv outputs from the FC Zonal Statistics workflow and save them into a single csv. Results include the `annual results` and the `error log` record."
   ]
  },
  {
   "cell_type": "markdown",
   "metadata": {},
   "source": [
    "The total number of SA2 is 2310, however 22 SA2 are not spatially valid, such as SA2 that outside of the DEA dataset coverage (e.g. Norfolk Island) or do not contain spatial information (e.g. SA2 that are `Migratory - Offshore - Shipping` or `No usual address`). Therefore there are 2288 valid SA2."
   ]
  },
  {
   "cell_type": "code",
   "execution_count": null,
   "metadata": {},
   "outputs": [],
   "source": [
    "import pandas as pd\n",
    "import glob"
   ]
  },
  {
   "cell_type": "markdown",
   "metadata": {},
   "source": [
    "## USER INPUT: add location of output csv"
   ]
  },
  {
   "cell_type": "code",
   "execution_count": 30,
   "metadata": {
    "ExecuteTime": {
     "end_time": "2019-06-21T05:12:11.117962Z",
     "start_time": "2019-06-21T05:12:11.108263Z"
    }
   },
   "outputs": [],
   "source": [
    "path = '/g/data/r78/ext547/abs/output/2015-2017/'"
   ]
  },
  {
   "cell_type": "markdown",
   "metadata": {},
   "source": [
    "## Set up process"
   ]
  },
  {
   "cell_type": "code",
   "execution_count": 41,
   "metadata": {
    "ExecuteTime": {
     "end_time": "2019-06-21T05:29:24.342737Z",
     "start_time": "2019-06-21T05:29:24.332292Z"
    }
   },
   "outputs": [
    {
     "data": {
      "text/plain": [
       "['/g/data/r78/ext547/abs/output/2015-2017/tabulate_FC_20June19_over20000_702021055_2015_2017_annual.csv',\n",
       " '/g/data/r78/ext547/abs/output/2015-2017/tabulate_FC_17June19_200to5000_2015_2017_annual.csv',\n",
       " '/g/data/r78/ext547/abs/output/2015-2017/tabulate_FC_20June19_5000to20000_lastSA2_2015_2017_annual.csv',\n",
       " '/g/data/r78/ext547/abs/output/2015-2017/tabulate_FC_11June19_over20000_702051066_2015_2017_annual.csv',\n",
       " '/g/data/r78/ext547/abs/output/2015-2017/tabulate_FC_20May_20-200_2015_2017_annual.csv',\n",
       " '/g/data/r78/ext547/abs/output/2015-2017/tabulate_FC_21June19_over20000_702031061_2015_2017_annual.csv',\n",
       " '/g/data/r78/ext547/abs/output/2015-2017/tabulate_FC_20June19_over20000_510011263_2015_2017_annual.csv',\n",
       " '/g/data/r78/ext547/abs/output/2015-2017/tabulate_FC_25May_0-20_2015_2017_annual.csv',\n",
       " '/g/data/r78/ext547/abs/output/2015-2017/tabulate_FC_03June19_over20000_annual.csv',\n",
       " '/g/data/r78/ext547/abs/output/2015-2017/tabulate_FC_18June19_5000to20000_2015_2017_annual.csv',\n",
       " '/g/data/r78/ext547/abs/output/2015-2017/tabulate_FC_11June19_over20000_702051068_2015_2017_annual.csv']"
      ]
     },
     "execution_count": 41,
     "metadata": {},
     "output_type": "execute_result"
    }
   ],
   "source": [
    "## Create a glob file that contains a list of all `annual` and `error log` csv\n",
    "annual_files = glob.glob(path + '*annual.csv')\n",
    "error_files = glob.glob(path + '*error_log.csv')\n",
    "\n",
    "annual_files"
   ]
  },
  {
   "cell_type": "code",
   "execution_count": 42,
   "metadata": {
    "ExecuteTime": {
     "end_time": "2019-06-21T05:30:10.729840Z",
     "start_time": "2019-06-21T05:30:10.699761Z"
    }
   },
   "outputs": [],
   "source": [
    "#create dataframe with headings\n",
    "annual_df = pd.DataFrame(columns= ['DATE','SA2_MAIN16', 'SA2_NAME16', 'AREASQKM16','PV_PERCENTAGE','NPV_PERCENTAGE','BS_PERCENTAGE'\n",
    "          ,'WOFL_PERCENTAGE', 'UNCLASSIFIED_PERCENTAGE','PV_AREA_SQKM_ALBERS3577','NPV_AREA_SQKM_ALBERS3577',\n",
    "          'BS_AREA_SQKM_ALBERS3577','WOFL_AREA_SQKM_ALBERS3577','UNCLASSIFIED_AREA_SQKM_ALBERS3577', \n",
    "          'AVERAGE_OBSERVATION_COUNT','MONTHS_WITH_NO_DATA', 'MONTHS_WITH_LOW_DATA'])\n",
    "\n",
    "error_df = pd.DataFrame(columns= ['RUN_NAME','SA2_MAIN16','DATE_RANGE','ERROR_MESSAGE'])"
   ]
  },
  {
   "cell_type": "markdown",
   "metadata": {},
   "source": [
    "## Join results together"
   ]
  },
  {
   "cell_type": "code",
   "execution_count": 52,
   "metadata": {
    "ExecuteTime": {
     "end_time": "2019-06-21T05:37:33.118051Z",
     "start_time": "2019-06-21T05:37:32.959575Z"
    }
   },
   "outputs": [
    {
     "name": "stdout",
     "output_type": "stream",
     "text": [
      "There are 2274.0 successful SA2 within the output results\n"
     ]
    }
   ],
   "source": [
    "#Join all annual results into one dataframe\n",
    "annual_out = annual_df\n",
    "for csv_path in annual_files:\n",
    "    annual_in = pd.read_csv(csv_path)\n",
    "    annual_out = pd.concat([annual_out, annual_in],sort=False)    \n",
    "annual_out.rename(columns={'FC_AREA_SQKM_ALBERS3577':'TILED_AREA_SUM_SQKM_ALBERS3577'},inplace=True)\n",
    "print(f\"There are {len(annual_out)/3} successful SA2 within the output results\")"
   ]
  },
  {
   "cell_type": "code",
   "execution_count": 47,
   "metadata": {
    "ExecuteTime": {
     "end_time": "2019-06-21T05:34:26.217134Z",
     "start_time": "2019-06-21T05:34:26.104424Z"
    }
   },
   "outputs": [
    {
     "name": "stdout",
     "output_type": "stream",
     "text": [
      "There are 14 unsucessful SA2. No FC results were saved for these SA2\n"
     ]
    }
   ],
   "source": [
    "#Join all error log results into one dataframe\n",
    "error_out = error_df\n",
    "for csv_path in error_files:\n",
    "    error_in = pd.read_csv(csv_path)\n",
    "    error_out = pd.concat([error_out, error_in],sort= False)\n",
    "print(f\"There are {len(error_out)} unsucessful SA2. No FC results were saved for these SA2\")"
   ]
  },
  {
   "cell_type": "code",
   "execution_count": 49,
   "metadata": {
    "ExecuteTime": {
     "end_time": "2019-06-21T05:35:09.237980Z",
     "start_time": "2019-06-21T05:35:09.228235Z"
    }
   },
   "outputs": [
    {
     "data": {
      "text/plain": [
       "'There is a record of 2288.0 successful and unsuccessful SA2'"
      ]
     },
     "execution_count": 49,
     "metadata": {},
     "output_type": "execute_result"
    }
   ],
   "source": [
    "(f\"There is a record of {len(error_out) + len(annual_out)/3} successful and unsuccessful SA2\")"
   ]
  },
  {
   "cell_type": "markdown",
   "metadata": {},
   "source": [
    "## Save results into csv"
   ]
  },
  {
   "cell_type": "code",
   "execution_count": 40,
   "metadata": {
    "ExecuteTime": {
     "end_time": "2019-06-21T05:12:41.973656Z",
     "start_time": "2019-06-21T05:12:41.762140Z"
    }
   },
   "outputs": [],
   "source": [
    "#Save annual and error log record into a `master` csv\n",
    "annual_out.to_csv(f'{path}/tabulate_FC_21May_2015_2017_annual_MASTER.csv')\n",
    "error_out.to_csv(f'{path}/tabulate_FC_21May_2015_2017_error_MASTER.csv')"
   ]
  },
  {
   "cell_type": "code",
   "execution_count": 53,
   "metadata": {
    "ExecuteTime": {
     "end_time": "2019-06-21T05:37:35.812465Z",
     "start_time": "2019-06-21T05:37:35.767002Z"
    }
   },
   "outputs": [
    {
     "data": {
      "text/html": [
       "<div>\n",
       "<style scoped>\n",
       "    .dataframe tbody tr th:only-of-type {\n",
       "        vertical-align: middle;\n",
       "    }\n",
       "\n",
       "    .dataframe tbody tr th {\n",
       "        vertical-align: top;\n",
       "    }\n",
       "\n",
       "    .dataframe thead th {\n",
       "        text-align: right;\n",
       "    }\n",
       "</style>\n",
       "<table border=\"1\" class=\"dataframe\">\n",
       "  <thead>\n",
       "    <tr style=\"text-align: right;\">\n",
       "      <th></th>\n",
       "      <th>DATE</th>\n",
       "      <th>SA2_MAIN16</th>\n",
       "      <th>SA2_NAME16</th>\n",
       "      <th>AREASQKM16</th>\n",
       "      <th>PV_PERCENTAGE</th>\n",
       "      <th>NPV_PERCENTAGE</th>\n",
       "      <th>BS_PERCENTAGE</th>\n",
       "      <th>WOFL_PERCENTAGE</th>\n",
       "      <th>UNCLASSIFIED_PERCENTAGE</th>\n",
       "      <th>PV_AREA_SQKM_ALBERS3577</th>\n",
       "      <th>NPV_AREA_SQKM_ALBERS3577</th>\n",
       "      <th>BS_AREA_SQKM_ALBERS3577</th>\n",
       "      <th>WOFL_AREA_SQKM_ALBERS3577</th>\n",
       "      <th>UNCLASSIFIED_AREA_SQKM_ALBERS3577</th>\n",
       "      <th>AVERAGE_OBSERVATION_COUNT</th>\n",
       "      <th>MONTHS_WITH_NO_DATA</th>\n",
       "      <th>MONTHS_WITH_LOW_DATA</th>\n",
       "      <th>TILED_AREA_SUM_SQKM_ALBERS3577</th>\n",
       "    </tr>\n",
       "  </thead>\n",
       "  <tbody>\n",
       "    <tr>\n",
       "      <th>0</th>\n",
       "      <td>2015</td>\n",
       "      <td>702031061.0</td>\n",
       "      <td>West Arnhem</td>\n",
       "      <td>33509.2427</td>\n",
       "      <td>42.846142</td>\n",
       "      <td>41.362602</td>\n",
       "      <td>12.731695</td>\n",
       "      <td>0.729485</td>\n",
       "      <td>2.330076</td>\n",
       "      <td>14357.413351</td>\n",
       "      <td>13860.290434</td>\n",
       "      <td>4266.293294</td>\n",
       "      <td>244.444779</td>\n",
       "      <td>780.790642</td>\n",
       "      <td>29.448176</td>\n",
       "      <td>0</td>\n",
       "      <td>2</td>\n",
       "      <td>33509.2325</td>\n",
       "    </tr>\n",
       "    <tr>\n",
       "      <th>1</th>\n",
       "      <td>2016</td>\n",
       "      <td>702031061.0</td>\n",
       "      <td>West Arnhem</td>\n",
       "      <td>33509.2427</td>\n",
       "      <td>44.823082</td>\n",
       "      <td>37.344651</td>\n",
       "      <td>12.608209</td>\n",
       "      <td>0.714341</td>\n",
       "      <td>4.509717</td>\n",
       "      <td>15019.870832</td>\n",
       "      <td>12513.905906</td>\n",
       "      <td>4224.914165</td>\n",
       "      <td>239.370168</td>\n",
       "      <td>1511.171430</td>\n",
       "      <td>24.593251</td>\n",
       "      <td>0</td>\n",
       "      <td>2</td>\n",
       "      <td>33509.2325</td>\n",
       "    </tr>\n",
       "    <tr>\n",
       "      <th>2</th>\n",
       "      <td>2017</td>\n",
       "      <td>702031061.0</td>\n",
       "      <td>West Arnhem</td>\n",
       "      <td>33509.2427</td>\n",
       "      <td>43.047794</td>\n",
       "      <td>41.767592</td>\n",
       "      <td>11.510065</td>\n",
       "      <td>0.691136</td>\n",
       "      <td>2.983413</td>\n",
       "      <td>14424.985264</td>\n",
       "      <td>13995.999595</td>\n",
       "      <td>3856.934303</td>\n",
       "      <td>231.594456</td>\n",
       "      <td>999.718883</td>\n",
       "      <td>20.408963</td>\n",
       "      <td>0</td>\n",
       "      <td>5</td>\n",
       "      <td>33509.2325</td>\n",
       "    </tr>\n",
       "  </tbody>\n",
       "</table>\n",
       "</div>"
      ],
      "text/plain": [
       "   DATE   SA2_MAIN16   SA2_NAME16  AREASQKM16  PV_PERCENTAGE  NPV_PERCENTAGE  \\\n",
       "0  2015  702031061.0  West Arnhem  33509.2427      42.846142       41.362602   \n",
       "1  2016  702031061.0  West Arnhem  33509.2427      44.823082       37.344651   \n",
       "2  2017  702031061.0  West Arnhem  33509.2427      43.047794       41.767592   \n",
       "\n",
       "   BS_PERCENTAGE  WOFL_PERCENTAGE  UNCLASSIFIED_PERCENTAGE  \\\n",
       "0      12.731695         0.729485                 2.330076   \n",
       "1      12.608209         0.714341                 4.509717   \n",
       "2      11.510065         0.691136                 2.983413   \n",
       "\n",
       "   PV_AREA_SQKM_ALBERS3577  NPV_AREA_SQKM_ALBERS3577  BS_AREA_SQKM_ALBERS3577  \\\n",
       "0             14357.413351              13860.290434              4266.293294   \n",
       "1             15019.870832              12513.905906              4224.914165   \n",
       "2             14424.985264              13995.999595              3856.934303   \n",
       "\n",
       "   WOFL_AREA_SQKM_ALBERS3577  UNCLASSIFIED_AREA_SQKM_ALBERS3577  \\\n",
       "0                 244.444779                         780.790642   \n",
       "1                 239.370168                        1511.171430   \n",
       "2                 231.594456                         999.718883   \n",
       "\n",
       "   AVERAGE_OBSERVATION_COUNT MONTHS_WITH_NO_DATA MONTHS_WITH_LOW_DATA  \\\n",
       "0                  29.448176                   0                    2   \n",
       "1                  24.593251                   0                    2   \n",
       "2                  20.408963                   0                    5   \n",
       "\n",
       "   TILED_AREA_SUM_SQKM_ALBERS3577  \n",
       "0                      33509.2325  \n",
       "1                      33509.2325  \n",
       "2                      33509.2325  "
      ]
     },
     "execution_count": 53,
     "metadata": {},
     "output_type": "execute_result"
    }
   ],
   "source": [
    "#A tool to checl whether particular SA2 are located in the FC output\n",
    "annual_out.loc[annual_out['SA2_MAIN16'] == 702031061]"
   ]
  },
  {
   "cell_type": "code",
   "execution_count": null,
   "metadata": {},
   "outputs": [],
   "source": []
  }
 ],
 "metadata": {
  "kernelspec": {
   "display_name": "Python [default]",
   "language": "python",
   "name": "python3"
  },
  "language_info": {
   "codemirror_mode": {
    "name": "ipython",
    "version": 3
   },
   "file_extension": ".py",
   "mimetype": "text/x-python",
   "name": "python",
   "nbconvert_exporter": "python",
   "pygments_lexer": "ipython3",
   "version": "3.6.6"
  }
 },
 "nbformat": 4,
 "nbformat_minor": 2
}
