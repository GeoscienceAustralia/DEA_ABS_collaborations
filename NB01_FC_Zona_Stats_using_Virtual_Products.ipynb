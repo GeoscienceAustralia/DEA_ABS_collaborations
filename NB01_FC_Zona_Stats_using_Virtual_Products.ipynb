{
 "cells": [
  {
   "cell_type": "markdown",
   "metadata": {},
   "source": [
    "# Tabulation of Fractional Cover data within shapefile polygons"
   ]
  },
  {
   "cell_type": "markdown",
   "metadata": {
    "ExecuteTime": {
     "end_time": "2019-02-04T04:13:20.577632Z",
     "start_time": "2019-02-04T04:13:20.554372Z"
    }
   },
   "source": [
    "**What does this notebook do?**\n",
    "\n",
    "This notebook is a pilot collaboration between Geoscience Australia and Australian Bureau of Statistics. The purpose of the notebook is to use a shapefile polygon boundaries to load fractional cover dataset, complete zonal statistics and tabulate the results.\n",
    "\n",
    "**Requirements**\n",
    "\n",
    "You need to run the following commands from the command line prior to launching jupyter notebooks from the same terminal so that the required libraries and paths are set:\n",
    "\n",
    "`module use /g/data/v10/public/modules/modulefiles`\n",
    "\n",
    "`module load dea/20181213`\n",
    "\n",
    "\n",
    "**Background**\n",
    "\n",
    "Data from the Landsat 5,7 and 8 satellite missions are accessible through Digital Earth Australia (DEA). The code snippets in this notebook will let you retrieve and plot the Fractional Cover (FC25) data stored in DEA.\n",
    "\n",
    "\n",
    "**How to use this notebook**\n",
    "\n",
    "A basic understanding of any programming language is desirable but one doesn't have to be an expert Python programmer to manipulate the code to get and display the data.This doc applies to the following Landsat satellites, Fractional Cover bands and the WOfS dataset:\n",
    "\n",
    "- Landsat 5\n",
    "- Landsat 7\n",
    "- Landsat 8\n",
    "- PV - Photosythetic vegetation\n",
    "- NPV - Non-Photosythetic vegetation\n",
    "- BS - Bare Soil\n",
    "- UE - Unmixing Error\n",
    "- Water Observations from Space (WOFs)\n",
    "- WOfS Feature Layer (WOFL)\n",
    "\n",
    "**Bugs still to fix**\n",
    "\n",
    "- add water to percentage - AH\n",
    "- Memory errors for extra large polygons - AH & ET\n",
    "\n",
    "\n",
    "**Errors or bugs**\n",
    "\n",
    "If you find an error or bug in this notebook, please contact erin.telfer@ga.gov.au.\n"
   ]
  },
  {
   "cell_type": "markdown",
   "metadata": {},
   "source": [
    "## Import Libraries and define functions"
   ]
  },
  {
   "cell_type": "code",
   "execution_count": 1,
   "metadata": {
    "ExecuteTime": {
     "end_time": "2019-02-07T01:35:41.059848Z",
     "start_time": "2019-02-07T01:35:36.550096Z"
    }
   },
   "outputs": [],
   "source": [
    "%matplotlib inline\n",
    "\n",
    "from datetime import time, datetime\n",
    "import os.path\n",
    "\n",
    "from matplotlib import pyplot as plt\n",
    "import pandas as pd\n",
    "import numpy\n",
    "import xarray as xr\n",
    "import rasterio\n",
    "import rasterio.features\n",
    "import fiona\n",
    "import dask\n",
    "from dask.delayed import delayed\n",
    "from dask.distributed import LocalCluster, Client\n",
    "import tempfile\n",
    "\n",
    "import datacube\n",
    "from datacube import Datacube\n",
    "from datacube.virtual import construct, construct_from_yaml\n",
    "from datacube.ui.task_app import year_splitter"
   ]
  },
  {
   "cell_type": "markdown",
   "metadata": {},
   "source": [
    "### Set up a local dask cluster\n",
    "This lets several processes work at the same time, and manage total memory usage\n",
    "\n",
    "We also get a dashboard to see how the system is running"
   ]
  },
  {
   "cell_type": "code",
   "execution_count": 2,
   "metadata": {
    "ExecuteTime": {
     "end_time": "2019-02-07T01:35:45.119501Z",
     "start_time": "2019-02-07T01:35:41.063176Z"
    }
   },
   "outputs": [
    {
     "data": {
      "text/html": [
       "<table style=\"border: 2px solid white;\">\n",
       "<tr>\n",
       "<td style=\"vertical-align: top; border: 0px solid white\">\n",
       "<h3>Client</h3>\n",
       "<ul>\n",
       "  <li><b>Scheduler: </b>tcp://127.0.0.1:34504\n",
       "  <li><b>Dashboard: </b><a href='http://127.0.0.1:8787/status' target='_blank'>http://127.0.0.1:8787/status</a>\n",
       "</ul>\n",
       "</td>\n",
       "<td style=\"vertical-align: top; border: 0px solid white\">\n",
       "<h3>Cluster</h3>\n",
       "<ul>\n",
       "  <li><b>Workers: </b>3</li>\n",
       "  <li><b>Cores: </b>3</li>\n",
       "  <li><b>Memory: </b>18.00 GB</li>\n",
       "</ul>\n",
       "</td>\n",
       "</tr>\n",
       "</table>"
      ],
      "text/plain": [
       "<Client: scheduler='tcp://127.0.0.1:34504' processes=3 cores=3>"
      ]
     },
     "execution_count": 2,
     "metadata": {},
     "output_type": "execute_result"
    }
   ],
   "source": [
    "cluster = LocalCluster(local_dir=tempfile.gettempdir(), \n",
    "                       n_workers=3, \n",
    "                       threads_per_worker=1,\n",
    "                       memory_limit=6e9)\n",
    "client = Client(cluster)\n",
    "dask.config.set(get=client.get)\n",
    "client"
   ]
  },
  {
   "cell_type": "code",
   "execution_count": 3,
   "metadata": {
    "ExecuteTime": {
     "end_time": "2019-02-07T01:35:45.130089Z",
     "start_time": "2019-02-07T01:35:45.124741Z"
    }
   },
   "outputs": [],
   "source": [
    "chunk_size = {'time': 1, 'x': 2000, 'y': 2000}"
   ]
  },
  {
   "cell_type": "code",
   "execution_count": 4,
   "metadata": {
    "ExecuteTime": {
     "end_time": "2019-02-07T01:35:45.880716Z",
     "start_time": "2019-02-07T01:35:45.133630Z"
    }
   },
   "outputs": [],
   "source": [
    "dc = Datacube()"
   ]
  },
  {
   "cell_type": "markdown",
   "metadata": {},
   "source": [
    "### Construct virtual product"
   ]
  },
  {
   "cell_type": "code",
   "execution_count": 5,
   "metadata": {
    "ExecuteTime": {
     "end_time": "2019-02-07T01:35:45.893374Z",
     "start_time": "2019-02-07T01:35:45.885312Z"
    }
   },
   "outputs": [],
   "source": [
    "LS7_BROKEN_DATE = datetime(2003, 5, 31)\n",
    "is_pre_slc_failure = lambda dataset: dataset.center_time < LS7_BROKEN_DATE"
   ]
  },
  {
   "cell_type": "code",
   "execution_count": 6,
   "metadata": {
    "ExecuteTime": {
     "end_time": "2019-02-07T01:35:45.903645Z",
     "start_time": "2019-02-07T01:35:45.897441Z"
    }
   },
   "outputs": [],
   "source": [
    "def wofls_fuser(dest, src):\n",
    "    where_nodata = (src & 1) == 0\n",
    "    numpy.copyto(dest, src, where=where_nodata)\n",
    "    return dest"
   ]
  },
  {
   "cell_type": "code",
   "execution_count": 7,
   "metadata": {
    "ExecuteTime": {
     "end_time": "2019-02-07T01:35:45.919252Z",
     "start_time": "2019-02-07T01:35:45.906815Z"
    }
   },
   "outputs": [],
   "source": [
    "fc_land_only_yaml = \"\"\"\n",
    "    transform: apply_mask\n",
    "    mask_measurement_name: water\n",
    "    preserve_dtype: false\n",
    "    input:\n",
    "        juxtapose:\n",
    "          - collate:\n",
    "              - transform: apply_mask\n",
    "                mask_measurement_name: pixelquality\n",
    "                preserve_dtype: false\n",
    "                input:\n",
    "                    juxtapose:\n",
    "                      - product: ls5_fc_albers\n",
    "                        group_by: solar_day\n",
    "                        measurements: [PV, NPV, BS]\n",
    "                      - transform: make_mask\n",
    "                        input:\n",
    "                            product: ls5_pq_albers\n",
    "                            group_by: solar_day\n",
    "                            fuse_func: datacube.helpers.ga_pq_fuser\n",
    "                        flags:\n",
    "                            ga_good_pixel: true\n",
    "                        mask_measurement_name: pixelquality\n",
    "              - transform: apply_mask\n",
    "                mask_measurement_name: pixelquality\n",
    "                preserve_dtype: false\n",
    "                input:\n",
    "                    juxtapose:\n",
    "                      - product: ls7_fc_albers\n",
    "                        group_by: solar_day\n",
    "                        measurements: [PV, NPV, BS]\n",
    "                        dataset_predicate: __main__.is_pre_slc_failure\n",
    "                      - transform: make_mask\n",
    "                        input:\n",
    "                            product: ls7_pq_albers\n",
    "                            group_by: solar_day\n",
    "                            fuse_func: datacube.helpers.ga_pq_fuser\n",
    "                        flags:\n",
    "                            ga_good_pixel: true\n",
    "                        mask_measurement_name: pixelquality\n",
    "              - transform: apply_mask\n",
    "                mask_measurement_name: pixelquality\n",
    "                preserve_dtype: false\n",
    "                input:\n",
    "                    juxtapose:\n",
    "                      - product: ls8_fc_albers\n",
    "                        group_by: solar_day\n",
    "                        measurements: [PV, NPV, BS]\n",
    "                      - transform: make_mask\n",
    "                        input:\n",
    "                            product: ls8_pq_albers\n",
    "                            group_by: solar_day\n",
    "                            fuse_func: datacube.helpers.ga_pq_fuser\n",
    "                        flags:\n",
    "                            ga_good_pixel: true\n",
    "                        mask_measurement_name: pixelquality\n",
    "          - transform: make_mask\n",
    "            input:\n",
    "                product: wofs_albers\n",
    "                group_by: solar_day\n",
    "                fuse_func: __main__.wofls_fuser\n",
    "            flags:\n",
    "                water_observed: false\n",
    "            mask_measurement_name: water\n",
    "\"\"\"\n",
    "fc_land_only = construct_from_yaml(fc_land_only_yaml)"
   ]
  },
  {
   "cell_type": "markdown",
   "metadata": {},
   "source": [
    "### Set up functions"
   ]
  },
  {
   "cell_type": "code",
   "execution_count": 8,
   "metadata": {
    "ExecuteTime": {
     "end_time": "2019-02-07T01:35:45.943371Z",
     "start_time": "2019-02-07T01:35:45.927959Z"
    }
   },
   "outputs": [],
   "source": [
    "def geometry_mask(geoms, geobox, all_touched=False, invert=False, chunks=None):\n",
    "    \"\"\"\n",
    "    Create a mask from shapes.\n",
    "\n",
    "    By default, mask is intended for use as a\n",
    "    numpy mask, where pixels that overlap shapes are False.\n",
    "    :param list[Geometry] geoms: geometries to be rasterized\n",
    "    :param datacube.utils.GeoBox geobox:\n",
    "    :param bool all_touched: If True, all pixels touched by geometries will be burned in. If\n",
    "                             false, only pixels whose center is within the polygon or that\n",
    "                             are selected by Bresenham's line algorithm will be burned in.\n",
    "    :param bool invert: If True, mask will be True for pixels that overlap shapes.\n",
    "    \"\"\"\n",
    "    data = rasterio.features.geometry_mask([geom.to_crs(geobox.crs) for geom in geoms],\n",
    "                                           out_shape=geobox.shape,\n",
    "                                           transform=geobox.affine,\n",
    "                                           all_touched=all_touched,\n",
    "                                           invert=invert)\n",
    "    if chunks is not None:\n",
    "        data = dask.array.from_array(data, chunks=tuple(chunks[d] for d in geobox.dims))\n",
    "        \n",
    "    coords = [xr.DataArray(data=coord.values, name=dim, dims=[dim], attrs={'units': coord.units}) \n",
    "              for dim, coord in geobox.coords.items()]\n",
    "    return xr.DataArray(data, coords=coords)"
   ]
  },
  {
   "cell_type": "code",
   "execution_count": 9,
   "metadata": {
    "ExecuteTime": {
     "end_time": "2019-02-07T01:35:45.956338Z",
     "start_time": "2019-02-07T01:35:45.948684Z"
    }
   },
   "outputs": [],
   "source": [
    "def get_shapes(shape_file):\n",
    "    with fiona.open(shape_file) as shapes:\n",
    "        crs = datacube.utils.geometry.CRS(shapes.crs_wkt)\n",
    "        for shape in shapes:\n",
    "            geom = datacube.utils.geometry.Geometry(shape['geometry'], crs=crs)\n",
    "            yield geom, shape['properties']"
   ]
  },
  {
   "cell_type": "code",
   "execution_count": 10,
   "metadata": {
    "ExecuteTime": {
     "end_time": "2019-02-07T01:35:45.971903Z",
     "start_time": "2019-02-07T01:35:45.960454Z"
    }
   },
   "outputs": [],
   "source": [
    "def fc_summary(data,mask_int):\n",
    "    fc = data[['BS', 'PV', 'NPV']].sum(dim=('x', 'y'))\n",
    "    area = fc * (25 * 25 / 1_000_000)\n",
    "    area = area.rename({'BS': 'BS_area', 'PV': 'PV_area', 'NPV': 'NPV_area'})\n",
    "    for da in area.data_vars.values():\n",
    "        da.attrs['units'] = 'km2'\n",
    "\n",
    "    fc = fc / mask_int * 100\n",
    "    for da in fc.data_vars.values():\n",
    "        da.attrs['units'] = '%'\n",
    "        \n",
    "    fc = fc.merge(area)\n",
    "    \n",
    "    return fc"
   ]
  },
  {
   "cell_type": "code",
   "execution_count": 11,
   "metadata": {
    "ExecuteTime": {
     "end_time": "2019-02-07T01:35:45.989516Z",
     "start_time": "2019-02-07T01:35:45.975892Z"
    }
   },
   "outputs": [],
   "source": [
    "def keepna(a, dim=None, thresh=None):\n",
    "    if type(a) is xr.Dataset:\n",
    "        return a.apply(keepna, keep_attrs=True, dim=dim, thresh=thresh)\n",
    "    \n",
    "    keep_dim = [] if dim is None else [dim]\n",
    "    dims = [d for d in a.dims if d not in keep_dim]\n",
    "    if thresh is None:\n",
    "        keep = numpy.isfinite(a).sum(dim=dims) > 0\n",
    "    else:\n",
    "        keep = numpy.isfinite(a).sum(dim=dims) >= thresh\n",
    "    return a.where(keep, other=numpy.nan)"
   ]
  },
  {
   "cell_type": "code",
   "execution_count": 12,
   "metadata": {
    "ExecuteTime": {
     "end_time": "2019-02-07T01:35:46.006533Z",
     "start_time": "2019-02-07T01:35:45.992745Z"
    },
    "scrolled": false
   },
   "outputs": [],
   "source": [
    "def plot_stacked(daily_data, catchment_id, show=True):\n",
    "    if not show:\n",
    "        plt.ioff()\n",
    "        \n",
    "    fig,ax = plt.subplots(figsize=(10,5))\n",
    "    ax.stackplot(daily_data.dropna(dim='time').time.data, \n",
    "                 daily_data.dropna(dim='time').BS, \n",
    "                 daily_data.dropna(dim='time').NPV, \n",
    "                 daily_data.dropna(dim='time').PV,\n",
    "                 colors = ['tan','olive','darkolivegreen',], \n",
    "                 labels=['BS','NPV','PV',])\n",
    "    plt.legend(loc='upper center', ncol = 3)\n",
    "    plt.title(f'FC Components: Catchment ID {catchment_id}', size=12)\n",
    "    plt.ylabel('Percentage (%)', size=12) #Set Y label\n",
    "    plt.xlabel('Date', size=12) #Set X label\n",
    "    plt.savefig(f'/g/data/r78/ext547/abs/output/{catchment_id}_monthly_plot.png');\n",
    "    plt.savefig(f'{catchment_id}_monthly_plot.png');\n",
    "    plt.close(fig)\n",
    "    \n",
    "    # Turn interactive back on\n",
    "    if not show:\n",
    "        plt.show()"
   ]
  },
  {
   "cell_type": "code",
   "execution_count": 13,
   "metadata": {
    "ExecuteTime": {
     "end_time": "2019-02-07T01:35:46.015321Z",
     "start_time": "2019-02-07T01:35:46.009529Z"
    }
   },
   "outputs": [],
   "source": [
    "def month_splitter(start_year, end_year_inclusive):\n",
    "    yield from (str(p) for p in pd.period_range(start=pd.Period(start_year, freq='A').start_time, \n",
    "                               end=pd.Period(end_year_inclusive, freq='A').end_time, \n",
    "                               freq='M'))"
   ]
  },
  {
   "cell_type": "markdown",
   "metadata": {},
   "source": [
    "### Process the query\n",
    "For each year and polygon query the product, apply the gemotry mask and compute the frational cover stats\n",
    "\n",
    "Using `client.compute()` lets us use the monthly results in calculating the annual results at the same time."
   ]
  },
  {
   "cell_type": "code",
   "execution_count": 27,
   "metadata": {
    "ExecuteTime": {
     "end_time": "2019-02-07T02:04:54.405157Z",
     "start_time": "2019-02-07T02:04:54.061437Z"
    }
   },
   "outputs": [],
   "source": [
    "shape_file = os.path.expanduser('../input/SA_2016_threepolygons_3577.shp')\n",
    "# shape_file = os.path.expanduser('../input/SA_2016_twopolygons_3577.shp')\n",
    "shapes = list(get_shapes(shape_file))"
   ]
  },
  {
   "cell_type": "code",
   "execution_count": 28,
   "metadata": {
    "ExecuteTime": {
     "end_time": "2019-02-07T02:04:56.688981Z",
     "start_time": "2019-02-07T02:04:55.123335Z"
    }
   },
   "outputs": [
    {
     "data": {
      "text/plain": [
       "('2000', '2002')"
      ]
     },
     "execution_count": 28,
     "metadata": {},
     "output_type": "execute_result"
    }
   ],
   "source": [
    "start_year, end_year = 2000, 2002\n",
    "time_range = (str(start_year), str(end_year))\n",
    "time_range"
   ]
  },
  {
   "cell_type": "code",
   "execution_count": 29,
   "metadata": {
    "ExecuteTime": {
     "end_time": "2019-02-07T02:04:56.725519Z",
     "start_time": "2019-02-07T02:04:56.719781Z"
    }
   },
   "outputs": [],
   "source": [
    "# # Use this list instead of shapes to just the big outback South Australian area\n",
    "# s2 = [(g,p) for g, p in shapes if str(p['SA2_MAIN16']) == '406021141']"
   ]
  },
  {
   "cell_type": "code",
   "execution_count": 30,
   "metadata": {
    "ExecuteTime": {
     "end_time": "2019-02-07T02:04:56.983106Z",
     "start_time": "2019-02-07T02:04:56.975081Z"
    }
   },
   "outputs": [],
   "source": [
    "# s2"
   ]
  },
  {
   "cell_type": "markdown",
   "metadata": {},
   "source": [
    "If we have enough resources, we can start the query and calculation of the next year's data while the previous is still being calculated. `by_slice=False` will be faster, but use more memory.\n",
    "\n",
    "For larger areas `by_slice` will need to be `True`, so that the compute cluster does not become overwhelmed.  \n",
    "\n",
    "If you get the error:\n",
    "> `distributed.nanny - WARNING - Worker exceeded 95% memory budget. Restarting`\n",
    "\n",
    "then you will need to set `by_slice=True`"
   ]
  },
  {
   "cell_type": "code",
   "execution_count": 31,
   "metadata": {
    "ExecuteTime": {
     "end_time": "2019-02-07T02:04:57.432222Z",
     "start_time": "2019-02-07T02:04:57.428838Z"
    }
   },
   "outputs": [],
   "source": [
    "by_slice=True"
   ]
  },
  {
   "cell_type": "code",
   "execution_count": 32,
   "metadata": {
    "ExecuteTime": {
     "end_time": "2019-02-07T02:04:59.864539Z",
     "start_time": "2019-02-07T02:04:59.847328Z"
    }
   },
   "outputs": [],
   "source": [
    "def process_area(geometry, catchment_id, time_range):\n",
    "    monthly_values = []\n",
    "    annual_values = []\n",
    "    mask = None\n",
    "          \n",
    "    for sub_time_range in month_splitter(time_range[0], time_range[-1]):\n",
    "#         print(f'  lazy loading {sub_time_range}...')\n",
    "        try:\n",
    "            data = fc_land_only.load(dc, dask_chunks=chunk_size, \n",
    "                                     time=sub_time_range, \n",
    "                                     geopolygon=geometry)\n",
    "#             print(f'    lazy loaded {sub_time_range}')\n",
    "        except ValueError:\n",
    "            print(f'    Error, skipping...')\n",
    "            continue\n",
    "\n",
    "        if mask is None:\n",
    "            mask = geometry_mask([geometry], data.geobox, invert=True, chunks=data.chunks)\n",
    "            mask_int = mask * 1\n",
    "            mask_int = mask_int.sum() * 100\n",
    "        data = data.where(mask)\n",
    "\n",
    "        data = data.resample(time='1MS').mean(dim='time', skipna=True)\n",
    "        data = keepna(data, dim='time', thresh=0.9*int(mask.sum()))\n",
    "\n",
    "        monthly_data = fc_summary(data,mask_int)\n",
    "        monthly_data = monthly_data.where(monthly_data != 0)\n",
    "        annual_data = monthly_data.resample(time='1YS').mean(dim='time', skipna=True)\n",
    "\n",
    "        print(f\"    calculating for {dict(monthly_data.sizes)}\")\n",
    "        monthly_data, annual_data = client.compute([monthly_data, annual_data], sync=by_slice)\n",
    "#         print(\"    compute submitted\")\n",
    "          \n",
    "        monthly_values.append(monthly_data)\n",
    "        annual_values.append(annual_data)\n",
    "    \n",
    "    if not by_slice:\n",
    "        print(\"  all years queried, hard load data\")\n",
    "        monthly_values = client.gather(monthly_values)\n",
    "        annual_values = client.gather(annual_values)\n",
    "\n",
    "    monthly_values = xr.concat(monthly_values, dim='time').dropna(dim='time')\n",
    "    plot_stacked(monthly_values, catchment_id, show=False)\n",
    "          \n",
    "    annual_values = xr.concat(annual_values, dim='time').dropna(dim='time')\n",
    "          \n",
    "    print(\"  all data loaded, save to csv\")\n",
    "    monthly_values.to_dataframe().to_csv(f\"../output/{catchment_id}_monthly.csv\")\n",
    "    annual_values.to_dataframe().to_csv(f\"../output/{catchment_id}_annual.csv\")\n",
    "          \n",
    "    print(f\"  Catchment {catchment_id} done\")"
   ]
  },
  {
   "cell_type": "code",
   "execution_count": null,
   "metadata": {
    "ExecuteTime": {
     "start_time": "2019-02-07T02:05:02.247Z"
    }
   },
   "outputs": [
    {
     "name": "stdout",
     "output_type": "stream",
     "text": [
      "Catchment ID: 105011092, size: 56843.6928km^2, time: ('2000', '2002')\n",
      "    calculating for {'time': 1}\n",
      "    calculating for {'time': 1}\n",
      "    calculating for {'time': 1}\n",
      "    calculating for {'time': 1}\n",
      "    calculating for {'time': 1}\n",
      "    calculating for {'time': 1}\n",
      "    calculating for {'time': 1}\n",
      "    calculating for {'time': 1}\n",
      "    calculating for {'time': 1}\n",
      "    calculating for {'time': 1}\n",
      "    calculating for {'time': 1}\n",
      "    calculating for {'time': 1}\n",
      "    calculating for {'time': 1}\n",
      "    calculating for {'time': 1}\n",
      "    calculating for {'time': 1}\n",
      "    calculating for {'time': 1}\n",
      "    calculating for {'time': 1}\n",
      "    calculating for {'time': 1}\n",
      "    calculating for {'time': 1}\n",
      "    calculating for {'time': 1}\n",
      "    calculating for {'time': 1}\n"
     ]
    }
   ],
   "source": [
    "for geometry, properties in shapes:\n",
    "    catchment_id = str(properties['SA2_MAIN16'])\n",
    "    print(f\"Catchment ID: {catchment_id}, size: {properties['AREASQKM16']}km^2, time: {time_range}\")\n",
    "    \n",
    "    try:\n",
    "          process_area(geometry, catchment_id, time_range)\n",
    "    except Exception:\n",
    "          print(f\"Could not process {catchment_id}\")\n",
    "          client.restart()\n",
    "          continue"
   ]
  },
  {
   "cell_type": "code",
   "execution_count": null,
   "metadata": {},
   "outputs": [],
   "source": []
  },
  {
   "cell_type": "code",
   "execution_count": null,
   "metadata": {},
   "outputs": [],
   "source": []
  },
  {
   "cell_type": "code",
   "execution_count": null,
   "metadata": {},
   "outputs": [],
   "source": []
  }
 ],
 "metadata": {
  "kernelspec": {
   "display_name": "Python [conda env:20181015]",
   "language": "python",
   "name": "conda-env-20181015-py"
  },
  "language_info": {
   "codemirror_mode": {
    "name": "ipython",
    "version": 3
   },
   "file_extension": ".py",
   "mimetype": "text/x-python",
   "name": "python",
   "nbconvert_exporter": "python",
   "pygments_lexer": "ipython3",
   "version": "3.6.6"
  }
 },
 "nbformat": 4,
 "nbformat_minor": 2
}
