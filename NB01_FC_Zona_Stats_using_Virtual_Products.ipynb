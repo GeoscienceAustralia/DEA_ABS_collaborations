{
 "cells": [
  {
   "cell_type": "markdown",
   "metadata": {},
   "source": [
    "# Tabulation of Fractional Cover data within shapefile polygons"
   ]
  },
  {
   "cell_type": "markdown",
   "metadata": {
    "ExecuteTime": {
     "end_time": "2019-02-04T04:13:20.577632Z",
     "start_time": "2019-02-04T04:13:20.554372Z"
    }
   },
   "source": [
    "**What does this notebook do?**\n",
    "\n",
    "This notebook is a pilot collaboration between Geoscience Australia and Australian Bureau of Statistics. The purpose of the notebook is to use a shapefile polygon boundaries to load fractional cover dataset, complete zonal statistics and tabulate the results.\n",
    "\n",
    "**Requirements**\n",
    "\n",
    "You need to run the following commands from the command line prior to launching jupyter notebooks from the same terminal so that the required libraries and paths are set:\n",
    "\n",
    "`module use /g/data/v10/public/modules/modulefiles`\n",
    "\n",
    "`module load dea/20181213`\n",
    "\n",
    "\n",
    "**Background**\n",
    "\n",
    "Data from the Landsat 5,7 and 8 satellite missions are accessible through Digital Earth Australia (DEA). The code snippets in this notebook will let you retrieve and plot the Fractional Cover (FC25) data stored in DEA.\n",
    "\n",
    "\n",
    "**How to use this notebook**\n",
    "\n",
    "A basic understanding of any programming language is desirable but one doesn't have to be an expert Python programmer to manipulate the code to get and display the data.This doc applies to the following Landsat satellites, Fractional Cover bands and the WOfS dataset:\n",
    "\n",
    "- Landsat 5\n",
    "- Landsat 7\n",
    "- Landsat 8\n",
    "- PV - Photosythetic vegetation\n",
    "- NPV - Non-Photosythetic vegetation\n",
    "- BS - Bare Soil\n",
    "- UE - Unmixing Error\n",
    "- Water Observations from Space (WOFs)\n",
    "- WOfS Feature Layer (WOFL)\n",
    "\n",
    "**Bugs still to fix**\n",
    "\n",
    "- add water to percentage - AH\n",
    "- Memory errors for extra large polygons - AH & ET\n",
    "\n",
    "\n",
    "**Errors or bugs**\n",
    "\n",
    "If you find an error or bug in this notebook, please contact erin.telfer@ga.gov.au.\n"
   ]
  },
  {
   "cell_type": "markdown",
   "metadata": {},
   "source": [
    "## Import Libraries and define functions"
   ]
  },
  {
   "cell_type": "code",
   "execution_count": null,
   "metadata": {
    "ExecuteTime": {
     "end_time": "2019-02-26T05:39:07.540557Z",
     "start_time": "2019-02-26T05:38:58.048293Z"
    }
   },
   "outputs": [],
   "source": [
    "%matplotlib inline\n",
    "\n",
    "from datetime import time, datetime\n",
    "import os.path\n",
    "\n",
    "from matplotlib import pyplot as plt\n",
    "import pandas as pd\n",
    "import numpy\n",
    "import xarray as xr\n",
    "import rasterio\n",
    "import rasterio.features\n",
    "import fiona\n",
    "from datetime import datetime\n",
    "import dask\n",
    "from dask.delayed import delayed\n",
    "from dask.distributed import LocalCluster, Client\n",
    "import tempfile\n",
    "\n",
    "import datacube\n",
    "from datacube import Datacube\n",
    "from datacube.virtual import construct, construct_from_yaml\n",
    "from datacube.ui.task_app import year_splitter\n",
    "\n",
    "print(f\"Cell finished at {datetime.now().strftime('%Y-%m-%d %H:%M:%S')}\")"
   ]
  },
  {
   "cell_type": "markdown",
   "metadata": {},
   "source": [
    "### Set up a local dask cluster\n",
    "Some calculations take more memory than is available on a system.  By breaking the data up into chunks, we can chain a sequence of operations together, and work on the data a small piece at a time.\n",
    "\n",
    "This lets several processes work at the same time, and manage total memory usage for the calculations.\n",
    "\n",
    "In more advanced setups, we can distribute the work across multiple computers, using all of their memory and CPU power."
   ]
  },
  {
   "cell_type": "code",
   "execution_count": null,
   "metadata": {},
   "outputs": [],
   "source": [
    "n_workers = 6\n",
    "threads_per_worker=1\n",
    "mem_per_worker = 8e9  # 8e9 is 8GB (8,000,000,000 bytes)\n",
    "\n",
    "chunk_size = {'time': 1, 'x': 2000, 'y': 2000}\n",
    "\n",
    "shapefile_path = '../input/SA_2016_twosmallpolygons_3577.shp'\n",
    "output_path = '/g/data/r78/ext547/abs/output/'"
   ]
  },
  {
   "cell_type": "code",
   "execution_count": null,
   "metadata": {},
   "outputs": [],
   "source": [
    "shapefile_path = '~/u/projects/abs_fc_zonal_stats/SA_2016_edited_3577.shp'\n",
    "output_path = '/short/v10/adh547/abs_fc_sa2/'"
   ]
  },
  {
   "cell_type": "code",
   "execution_count": null,
   "metadata": {
    "ExecuteTime": {
     "end_time": "2019-02-26T05:39:11.559073Z",
     "start_time": "2019-02-26T05:39:07.543528Z"
    }
   },
   "outputs": [],
   "source": [
    "cluster = LocalCluster(local_dir=tempfile.gettempdir(), \n",
    "                       n_workers=n_workers, \n",
    "                       threads_per_worker=threads_per_worker,\n",
    "                       memory_limit=mem_per_worker)\n",
    "client = Client(cluster)\n",
    "dask.config.set(get=client.get)\n",
    "client"
   ]
  },
  {
   "cell_type": "markdown",
   "metadata": {},
   "source": [
    "We also get a dashboard to see how the system is running, by clicking the link above after the cell has been run."
   ]
  },
  {
   "cell_type": "markdown",
   "metadata": {},
   "source": [
    "### Connect to the datacube "
   ]
  },
  {
   "cell_type": "code",
   "execution_count": null,
   "metadata": {
    "ExecuteTime": {
     "end_time": "2019-02-26T05:39:12.341085Z",
     "start_time": "2019-02-26T05:39:11.572302Z"
    }
   },
   "outputs": [],
   "source": [
    "dc = Datacube()\n",
    "print(f\"Cell finished at {datetime.now().strftime('%Y-%m-%d %H:%M:%S')}\")"
   ]
  },
  {
   "cell_type": "markdown",
   "metadata": {},
   "source": [
    "### Construct virtual product"
   ]
  },
  {
   "cell_type": "code",
   "execution_count": null,
   "metadata": {
    "ExecuteTime": {
     "end_time": "2019-02-26T05:39:12.350941Z",
     "start_time": "2019-02-26T05:39:12.344280Z"
    }
   },
   "outputs": [],
   "source": [
    "LS7_BROKEN_DATE = datetime(2003, 5, 31)\n",
    "is_pre_slc_failure = lambda dataset: dataset.center_time < LS7_BROKEN_DATE\n",
    "print(f\"Cell finished at {datetime.now().strftime('%Y-%m-%d %H:%M:%S')}\")"
   ]
  },
  {
   "cell_type": "code",
   "execution_count": null,
   "metadata": {
    "ExecuteTime": {
     "end_time": "2019-02-26T05:39:12.364187Z",
     "start_time": "2019-02-26T05:39:12.354018Z"
    }
   },
   "outputs": [],
   "source": [
    "def wofls_fuser(dest, src):\n",
    "    where_nodata = (src & 1) == 0\n",
    "    numpy.copyto(dest, src, where=where_nodata)\n",
    "    return dest\n",
    "print(f\"Cell finished at {datetime.now().strftime('%Y-%m-%d %H:%M:%S')}\")"
   ]
  },
  {
   "cell_type": "code",
   "execution_count": null,
   "metadata": {
    "ExecuteTime": {
     "end_time": "2019-02-26T05:39:12.382040Z",
     "start_time": "2019-02-26T05:39:12.367737Z"
    }
   },
   "outputs": [],
   "source": [
    "fc_land_only_yaml = \"\"\"\n",
    "    transform: apply_mask\n",
    "    mask_measurement_name: water\n",
    "    preserve_dtype: false\n",
    "    input:\n",
    "        juxtapose:\n",
    "          - collate:\n",
    "              - transform: apply_mask\n",
    "                mask_measurement_name: pixelquality\n",
    "                preserve_dtype: false\n",
    "                input:\n",
    "                    juxtapose:\n",
    "                      - product: ls5_fc_albers\n",
    "                        group_by: solar_day\n",
    "                        measurements: [PV, NPV, BS]\n",
    "                      - transform: make_mask\n",
    "                        input:\n",
    "                            product: ls5_pq_albers\n",
    "                            group_by: solar_day\n",
    "                            fuse_func: datacube.helpers.ga_pq_fuser\n",
    "                        flags:\n",
    "                            ga_good_pixel: true\n",
    "                        mask_measurement_name: pixelquality\n",
    "              - transform: apply_mask\n",
    "                mask_measurement_name: pixelquality\n",
    "                preserve_dtype: false\n",
    "                input:\n",
    "                    juxtapose:\n",
    "                      - product: ls7_fc_albers\n",
    "                        group_by: solar_day\n",
    "                        measurements: [PV, NPV, BS]\n",
    "                        dataset_predicate: __main__.is_pre_slc_failure\n",
    "                      - transform: make_mask\n",
    "                        input:\n",
    "                            product: ls7_pq_albers\n",
    "                            group_by: solar_day\n",
    "                            fuse_func: datacube.helpers.ga_pq_fuser\n",
    "                        flags:\n",
    "                            ga_good_pixel: true\n",
    "                        mask_measurement_name: pixelquality\n",
    "              - transform: apply_mask\n",
    "                mask_measurement_name: pixelquality\n",
    "                preserve_dtype: false\n",
    "                input:\n",
    "                    juxtapose:\n",
    "                      - product: ls8_fc_albers\n",
    "                        group_by: solar_day\n",
    "                        measurements: [PV, NPV, BS]\n",
    "                      - transform: make_mask\n",
    "                        input:\n",
    "                            product: ls8_pq_albers\n",
    "                            group_by: solar_day\n",
    "                            fuse_func: datacube.helpers.ga_pq_fuser\n",
    "                        flags:\n",
    "                            ga_good_pixel: true\n",
    "                        mask_measurement_name: pixelquality\n",
    "          - transform: make_mask\n",
    "            input:\n",
    "                product: wofs_albers\n",
    "                group_by: solar_day\n",
    "                fuse_func: __main__.wofls_fuser\n",
    "            flags:\n",
    "                water_observed: false\n",
    "            mask_measurement_name: water\n",
    "\"\"\"\n",
    "fc_land_only = construct_from_yaml(fc_land_only_yaml)\n",
    "print(f\"Cell finished at {datetime.now().strftime('%Y-%m-%d %H:%M:%S')}\")"
   ]
  },
  {
   "cell_type": "code",
   "execution_count": null,
   "metadata": {},
   "outputs": [],
   "source": [
    "fc_and_water_yaml = \"\"\"\n",
    "        juxtapose:\n",
    "          - collate:\n",
    "              - transform: apply_mask\n",
    "                mask_measurement_name: pixelquality\n",
    "                preserve_dtype: false\n",
    "                input:\n",
    "                    juxtapose:\n",
    "                      - product: ls5_fc_albers\n",
    "                        group_by: solar_day\n",
    "                        measurements: [PV, NPV, BS]\n",
    "                      - transform: make_mask\n",
    "                        input:\n",
    "                            product: ls5_pq_albers\n",
    "                            group_by: solar_day\n",
    "                            fuse_func: datacube.helpers.ga_pq_fuser\n",
    "                        flags:\n",
    "                            ga_good_pixel: true\n",
    "                        mask_measurement_name: pixelquality\n",
    "              - transform: apply_mask\n",
    "                mask_measurement_name: pixelquality\n",
    "                preserve_dtype: false\n",
    "                input:\n",
    "                    juxtapose:\n",
    "                      - product: ls7_fc_albers\n",
    "                        group_by: solar_day\n",
    "                        measurements: [PV, NPV, BS]\n",
    "                        # dataset_predicate: __main__.is_pre_slc_failure\n",
    "                      - transform: make_mask\n",
    "                        input:\n",
    "                            product: ls7_pq_albers\n",
    "                            group_by: solar_day\n",
    "                            fuse_func: datacube.helpers.ga_pq_fuser\n",
    "                        flags:\n",
    "                            ga_good_pixel: true\n",
    "                        mask_measurement_name: pixelquality\n",
    "              - transform: apply_mask\n",
    "                mask_measurement_name: pixelquality\n",
    "                preserve_dtype: false\n",
    "                input:\n",
    "                    juxtapose:\n",
    "                      - product: ls8_fc_albers\n",
    "                        group_by: solar_day\n",
    "                        measurements: [PV, NPV, BS]\n",
    "                      - transform: make_mask\n",
    "                        input:\n",
    "                            product: ls8_pq_albers\n",
    "                            group_by: solar_day\n",
    "                            fuse_func: datacube.helpers.ga_pq_fuser\n",
    "                        flags:\n",
    "                            ga_good_pixel: true\n",
    "                        mask_measurement_name: pixelquality\n",
    "          - transform: make_mask\n",
    "            input:\n",
    "                product: wofs_albers\n",
    "                group_by: solar_day\n",
    "                fuse_func: __main__.wofls_fuser\n",
    "            flags:\n",
    "                wet: true\n",
    "            mask_measurement_name: water\n",
    "\"\"\"\n",
    "fc_and_water = construct_from_yaml(fc_and_water_yaml)"
   ]
  },
  {
   "cell_type": "markdown",
   "metadata": {},
   "source": [
    "### Set up functions"
   ]
  },
  {
   "cell_type": "code",
   "execution_count": null,
   "metadata": {
    "ExecuteTime": {
     "end_time": "2019-02-26T05:39:12.397536Z",
     "start_time": "2019-02-26T05:39:12.386318Z"
    }
   },
   "outputs": [],
   "source": [
    "def geometry_mask(geoms, geobox, all_touched=False, invert=False, chunks=None):\n",
    "    \"\"\"\n",
    "    Create a mask from shapes.\n",
    "\n",
    "    By default, mask is intended for use as a\n",
    "    numpy mask, where pixels that overlap shapes are False.\n",
    "    :param list[Geometry] geoms: geometries to be rasterized\n",
    "    :param datacube.utils.GeoBox geobox:\n",
    "    :param bool all_touched: If True, all pixels touched by geometries will be burned in. If\n",
    "                             false, only pixels whose center is within the polygon or that\n",
    "                             are selected by Bresenham's line algorithm will be burned in.\n",
    "    :param bool invert: If True, mask will be True for pixels that overlap shapes.\n",
    "    \"\"\"\n",
    "    data = rasterio.features.geometry_mask([geom.to_crs(geobox.crs) for geom in geoms],\n",
    "                                           out_shape=geobox.shape,\n",
    "                                           transform=geobox.affine,\n",
    "                                           all_touched=all_touched,\n",
    "                                           invert=invert)\n",
    "    if chunks is not None:\n",
    "        data = dask.array.from_array(data, chunks=tuple(chunks[d] for d in geobox.dims))\n",
    "        \n",
    "    coords = [xr.DataArray(data=coord.values, name=dim, dims=[dim], attrs={'units': coord.units}) \n",
    "              for dim, coord in geobox.coords.items()]\n",
    "    return xr.DataArray(data, coords=coords)\n",
    "print(f\"Cell finished at {datetime.now().strftime('%Y-%m-%d %H:%M:%S')}\")"
   ]
  },
  {
   "cell_type": "code",
   "execution_count": null,
   "metadata": {
    "ExecuteTime": {
     "end_time": "2019-02-26T05:39:12.410104Z",
     "start_time": "2019-02-26T05:39:12.400878Z"
    }
   },
   "outputs": [],
   "source": [
    "def get_shapes(shape_file):\n",
    "    with fiona.open(shape_file) as shapes:\n",
    "        crs = datacube.utils.geometry.CRS(shapes.crs_wkt)\n",
    "        for shape in shapes:\n",
    "            geom = datacube.utils.geometry.Geometry(shape['geometry'], crs=crs)\n",
    "            yield geom, shape['properties']\n",
    "print(f\"Cell finished at {datetime.now().strftime('%Y-%m-%d %H:%M:%S')}\")"
   ]
  },
  {
   "cell_type": "code",
   "execution_count": null,
   "metadata": {
    "ExecuteTime": {
     "end_time": "2019-02-26T05:58:01.099485Z",
     "start_time": "2019-02-26T05:58:01.095016Z"
    }
   },
   "outputs": [],
   "source": [
    "import numpy as np"
   ]
  },
  {
   "cell_type": "code",
   "execution_count": null,
   "metadata": {
    "ExecuteTime": {
     "end_time": "2019-02-26T06:21:09.579187Z",
     "start_time": "2019-02-26T06:21:09.555203Z"
    }
   },
   "outputs": [],
   "source": [
    "def fc_summary(data, mask_int):\n",
    "    fc = data[['BS', 'PV', 'NPV']].sum(dim=('x', 'y'))\n",
    "    \n",
    "    #calculate unclassified portion of SA2\n",
    "    fc_unclass = fc.to_array('variable').sum(dim='variable')\n",
    "    fc_unclass = mask_int - int(fc_unclass.values)\n",
    "    fc['UNCLASSIFIED'] = ('time', np.repeat(int(fc_unclass.values),fc.time.size)) \n",
    "\n",
    "    #caclulate area of components \n",
    "    area = fc * (25 * 25 / 1_000_000)\n",
    "    area = area.rename({'BS': 'BS_area', 'PV': 'PV_area', 'NPV': 'NPV_area','UNCLASSIFIED':'UNCLASSIFIED_area'})\n",
    "    \n",
    "    for da in area.data_vars.values():\n",
    "        da.attrs['units'] = 'km2'\n",
    "\n",
    "    fc = fc / mask_int * 100\n",
    "    \n",
    "    \n",
    "    for da in fc.data_vars.values():\n",
    "        da.attrs['units'] = '%'\n",
    "        \n",
    "    fc = fc.merge(area)\n",
    "    \n",
    "    return fc"
   ]
  },
  {
   "cell_type": "code",
   "execution_count": null,
   "metadata": {},
   "outputs": [],
   "source": [
    "def fc_and_water_summary(data, mask_int):\n",
    "    # Where there is water, set the FC bands to 0%\n",
    "    fc = data[['PV', 'NPV', 'BS']].where(data.water==0, other=0)\n",
    "    fc['water'] = data.water.where(numpy.isfinite(fc['BS'])) * numpy.float32(100)\n",
    "    fc = fc.apply(lambda data_array: data_array.clip(0, 100).where(numpy.isfinite(data_array)))\n",
    "    \n",
    "    # Flatten to a monthly mean\n",
    "    fc = fc.groupby(fc.time.astype('datetime64[M]'), squeeze=False).mean(dim='time', skipna=True)\n",
    "    \n",
    "    # Calculate percentage of cover based on area of mask\n",
    "    percentage = fc.sum(dim=['x','y']) * (100 / mask_int)\n",
    "    for da in percentage.data_vars.values():\n",
    "        da.attrs['units'] = '%'\n",
    "       \n",
    "    pixel_area_in_metres2 = 25 * 25\n",
    "    m2_to_km2 = (1 / 1_000_000)\n",
    "    percent_to_fraction = (1 / 100)\n",
    "\n",
    "    area = (fc * (pixel_area_in_metres2 * m2_to_km2 * percent_to_fraction)).sum(dim=['x','y'])\n",
    "    area = area.rename({'BS': 'BS_area', 'PV': 'PV_area', 'NPV': 'NPV_area', 'water': 'water_area'})\n",
    "    for da in area.data_vars.values():\n",
    "        da.attrs['units'] = 'km^2'\n",
    "        \n",
    "    fc = percentage.merge(area)\n",
    "    return fc"
   ]
  },
  {
   "cell_type": "code",
   "execution_count": null,
   "metadata": {
    "ExecuteTime": {
     "end_time": "2019-02-26T06:10:24.635962Z",
     "start_time": "2019-02-26T06:10:24.624283Z"
    }
   },
   "outputs": [],
   "source": [
    "def keepna(a, dim=None, thresh=None):\n",
    "    if type(a) is xr.Dataset:\n",
    "        return a.apply(keepna, keep_attrs=True, dim=dim, thresh=thresh)\n",
    "    \n",
    "    keep_dim = [] if dim is None else [dim]\n",
    "    dims = [d for d in a.dims if d not in keep_dim]\n",
    "    if thresh is None:\n",
    "        keep = numpy.isfinite(a).sum(dim=dims) > 0\n",
    "    else:\n",
    "        keep = numpy.isfinite(a).sum(dim=dims) >= thresh\n",
    "    return a.where(keep, other=numpy.nan)\n",
    "\n",
    "print(f\"Cell finished at {datetime.now().strftime('%Y-%m-%d %H:%M:%S')}\")"
   ]
  },
  {
   "cell_type": "code",
   "execution_count": null,
   "metadata": {
    "ExecuteTime": {
     "end_time": "2019-02-26T05:53:53.295447Z",
     "start_time": "2019-02-26T05:53:53.275546Z"
    },
    "scrolled": false
   },
   "outputs": [],
   "source": [
    "def plot_stacked(ds, catchment_id,plot_title='title', show=True):\n",
    "    if not show:\n",
    "        plt.ioff()\n",
    "        \n",
    "    fig,ax = plt.subplots(figsize=(10,5))\n",
    "    ax.stackplot(ds.dropna(dim='time').time.data, \n",
    "                 ds.dropna(dim='time').water, \n",
    "                 ds.dropna(dim='time').BS, \n",
    "                 ds.dropna(dim='time').NPV, \n",
    "                 ds.dropna(dim='time').PV,\n",
    "                 colors = ['darkblue', 'tan','olive','darkolivegreen',], \n",
    "                 labels=['Water', 'BS','NPV','PV',])\n",
    "    plt.legend(loc='upper center', ncol = 3)\n",
    "    plt.title(f'FC Components: Catchment ID {catchment_id}', size=12)\n",
    "    plt.ylabel('Percentage (%)', size=12) #Set Y label\n",
    "    plt.xlabel('Date', size=12) #Set X label\n",
    "    \n",
    "    plt.savefig(f'{output_path}/{catchment_id}_{plot_title}.png');\n",
    "        \n",
    "#     plt.savefig(f'{catchment_id}_monthly_plot.png');\n",
    "    plt.close(fig)\n",
    "    \n",
    "    # Turn interactive back on\n",
    "    if not show:\n",
    "        plt.show()\n",
    "print(f\"Cell finished at {datetime.now().strftime('%Y-%m-%d %H:%M:%S')}\")"
   ]
  },
  {
   "cell_type": "code",
   "execution_count": null,
   "metadata": {
    "ExecuteTime": {
     "end_time": "2019-02-26T05:39:13.465145Z",
     "start_time": "2019-02-26T05:39:13.456733Z"
    }
   },
   "outputs": [],
   "source": [
    "def month_splitter(start_year, end_year_inclusive):\n",
    "    yield from (str(p) for p in pd.period_range(start=pd.Period(start_year).start_time, \n",
    "                               end=pd.Period(end_year_inclusive).end_time, \n",
    "                               freq='M'))"
   ]
  },
  {
   "cell_type": "markdown",
   "metadata": {},
   "source": [
    "### Process the query\n",
    "For each year and polygon query the product, apply the gemotry mask and compute the frational cover stats\n",
    "\n",
    "Using `client.compute()` lets us use the monthly results in calculating the annual results at the same time."
   ]
  },
  {
   "cell_type": "code",
   "execution_count": null,
   "metadata": {
    "ExecuteTime": {
     "end_time": "2019-02-26T05:39:15.801468Z",
     "start_time": "2019-02-26T05:39:15.662598Z"
    }
   },
   "outputs": [],
   "source": [
    "shape_file = os.path.expanduser(f'{shapefile_path}')\n",
    "\n",
    "# shape_file = os.path.expanduser('../input/SA_2016_twosmallpolygons_3577.shp')\n",
    "# shape_file = os.path.expanduser('../input/SA_2016_threepolygons_3577.shp')\n",
    "# shape_file = os.path.expanduser('../input/SA_2016_twopolygons_3577.shp')\n",
    "shapes = list(get_shapes(shape_file))\n",
    "print(f\"Cell finished at {datetime.now().strftime('%Y-%m-%d %H:%M:%S')}\")"
   ]
  },
  {
   "cell_type": "code",
   "execution_count": null,
   "metadata": {
    "ExecuteTime": {
     "end_time": "2019-02-26T05:39:16.688875Z",
     "start_time": "2019-02-26T05:39:16.680960Z"
    }
   },
   "outputs": [],
   "source": [
    "start_year, end_year = 2000, 2001\n",
    "time_range = (str(start_year), str(end_year))\n",
    "print(time_range)\n",
    "print(f\"Cell finished at {datetime.now().strftime('%Y-%m-%d %H:%M:%S')}\")"
   ]
  },
  {
   "cell_type": "code",
   "execution_count": null,
   "metadata": {
    "ExecuteTime": {
     "end_time": "2019-02-26T05:39:17.536544Z",
     "start_time": "2019-02-26T05:39:17.525924Z"
    }
   },
   "outputs": [],
   "source": [
    "# # Use this list instead of shapes to just the big outback South Australian area\n",
    "# s2 = [(g,p) for g, p in shapes if str(p['SA2_MAIN16']) == '406021141']"
   ]
  },
  {
   "cell_type": "code",
   "execution_count": null,
   "metadata": {
    "ExecuteTime": {
     "end_time": "2019-02-26T05:39:18.267418Z",
     "start_time": "2019-02-26T05:39:18.261777Z"
    }
   },
   "outputs": [],
   "source": [
    "# s2"
   ]
  },
  {
   "cell_type": "markdown",
   "metadata": {},
   "source": [
    "If we have enough resources, we can start the query and calculation of the next year's data while the previous is still being calculated. `by_slice=False` will be faster, but use more memory.\n",
    "\n",
    "For larger areas `by_slice` will need to be `True`, so that the compute cluster does not become overwhelmed.  \n",
    "\n",
    "If you get the error:\n",
    "> `distributed.nanny - WARNING - Worker exceeded 95% memory budget. Restarting`\n",
    "\n",
    "then you will need to set `by_slice=True`"
   ]
  },
  {
   "cell_type": "code",
   "execution_count": null,
   "metadata": {
    "ExecuteTime": {
     "end_time": "2019-02-26T05:39:18.997503Z",
     "start_time": "2019-02-26T05:39:18.991649Z"
    }
   },
   "outputs": [],
   "source": [
    "by_slice=True"
   ]
  },
  {
   "cell_type": "code",
   "execution_count": null,
   "metadata": {
    "ExecuteTime": {
     "end_time": "2019-02-26T06:23:39.479312Z",
     "start_time": "2019-02-26T06:23:39.461316Z"
    }
   },
   "outputs": [],
   "source": [
    "def process_area(geometry, catchment_id, time_range):\n",
    "    monthly_values = []\n",
    "    annual_values = []\n",
    "    mask = None\n",
    "          \n",
    "    for sub_time_range in month_splitter(time_range[0], time_range[-1]):\n",
    "        try:\n",
    "            data = fc_and_water.load(dc, dask_chunks=chunk_size, \n",
    "                                     time=sub_time_range, \n",
    "                                     geopolygon=geometry)\n",
    "        except ValueError:\n",
    "            print(f'    No data for {sub_time_range} , skipping...')\n",
    "            continue\n",
    "\n",
    "        if mask is None:\n",
    "            mask = geometry_mask([geometry], data.geobox, invert=True, chunks=data.chunks)\n",
    "            mask_int = mask * 1\n",
    "            mask_int = mask_int.sum() * 100\n",
    "        data = data.where(mask)\n",
    "#         data = data.groupby(data.time.astype('datetime64[M]')).mean(dim='time', skipna=True)\n",
    "#         data = keepna(data, dim='time', thresh=0.9*int(mask.sum()))\n",
    "\n",
    "        monthly_data = fc_and_water_summary(data, mask_int)\n",
    "#         monthly_data = monthly_data.where(monthly_data != 0)\n",
    "        monthly_data = client.compute(monthly_data, sync=by_slice)\n",
    "        monthly_values.append(monthly_data)\n",
    "        \n",
    "        print(f\"    calculation complete for {str(monthly_data.time.values)}\")\n",
    "\n",
    "    if not by_slice:\n",
    "        print(\"  all years queried, hard load data\")\n",
    "        monthly_values = client.gather(monthly_values)\n",
    "    \n",
    "    monthly_values = xr.concat(monthly_values, dim='time')\n",
    "    monthly_values = monthly_values.where(monthly_values[['PV', 'BS', 'NPV', 'water']].to_array(dim='var').sum(dim='var') > 70).dropna(dim='time')\n",
    "    annual_values = monthly_values.resample(time='1YS').mean(dim='time', skipna=True)\n",
    "    print(f\"  Calculation complete for annual values\")\n",
    "\n",
    "    \n",
    "    plot_stacked(monthly_values, catchment_id, plot_title='monthly_plot_0.1threshold',show=False)\n",
    "    plot_stacked(annual_values, catchment_id, plot_title='annual_plot_0.1threshold', show=False)\n",
    "    \n",
    "    print(\"  All data loaded, save to csv\")\n",
    "    monthly_values.to_dataframe().to_csv(f\"{output_path}/{catchment_id}_monthly.csv\")\n",
    "    annual_values.to_dataframe().to_csv(f\"{output_path}/{catchment_id}_annual.csv\")\n",
    "    print(f\"  Catchment {catchment_id} done\")\n"
   ]
  },
  {
   "cell_type": "code",
   "execution_count": null,
   "metadata": {
    "ExecuteTime": {
     "end_time": "2019-02-26T06:36:39.070759Z",
     "start_time": "2019-02-26T06:23:40.720693Z"
    },
    "scrolled": false
   },
   "outputs": [],
   "source": [
    "for geometry, properties in shapes:\n",
    "    catchment_id = str(properties['SA2_MAIN16'])\n",
    "    print(f\"Catchment ID: {catchment_id}, size: {properties['AREASQKM16']}km^2, time: {time_range}\")\n",
    "    \n",
    "    try:\n",
    "          process_area(geometry, catchment_id, time_range)\n",
    "    except Exception as e:\n",
    "          print(f\"Could not process {catchment_id}: {e}\")\n",
    "          client.restart()"
   ]
  },
  {
   "cell_type": "code",
   "execution_count": null,
   "metadata": {},
   "outputs": [],
   "source": []
  },
  {
   "cell_type": "code",
   "execution_count": null,
   "metadata": {},
   "outputs": [],
   "source": []
  },
  {
   "cell_type": "code",
   "execution_count": null,
   "metadata": {
    "ExecuteTime": {
     "end_time": "2019-02-26T06:10:24.270442Z",
     "start_time": "2019-02-26T06:10:24.263743Z"
    }
   },
   "outputs": [],
   "source": [
    "# def fc_summary(data,mask_int):\n",
    "#     fc = data[['BS', 'PV', 'NPV']].sum(dim=('x', 'y'))\n",
    "    \n",
    "#     area = fc * (25 * 25 / 1_000_000)\n",
    "#     area = area.rename({'BS': 'BS_area', 'PV': 'PV_area', 'NPV': 'NPV_area'})\n",
    "    \n",
    "#     for da in area.data_vars.values():\n",
    "#         da.attrs['units'] = 'km2'\n",
    "\n",
    "#     fc = fc / mask_int * 100\n",
    "#     fc_mean = fc.to_array('variable').sum(dim='variable')\n",
    "    \n",
    "#     fc_unclassified = 100 - int(fc_mean.values)\n",
    "#     fc['UNCLASSIFIED'] = ('time', np.repeat(fc_unclassified,fc.time.size))\n",
    "\n",
    "#     fc_unclassified_area = fc_unclassified  * (25 * 25 / 1_000_000) \n",
    "#     area['UNCLASSIFIED_area'] = ('time', np.repeat(fc_unclassified_area,fc.time.size))\n",
    "    \n",
    "#     for da in fc.data_vars.values():\n",
    "#         da.attrs['units'] = '%'\n",
    "        \n",
    "#     fc = fc.merge(area)\n",
    "    \n",
    "#     return fc"
   ]
  },
  {
   "cell_type": "code",
   "execution_count": null,
   "metadata": {},
   "outputs": [],
   "source": []
  },
  {
   "cell_type": "code",
   "execution_count": null,
   "metadata": {
    "ExecuteTime": {
     "end_time": "2019-02-26T06:36:39.081151Z",
     "start_time": "2019-02-26T06:36:39.074029Z"
    }
   },
   "outputs": [],
   "source": [
    "# def process_area(geometry, catchment_id, time_range):\n",
    "#     monthly_values = []\n",
    "#     annual_values = []\n",
    "#     mask = None\n",
    "          \n",
    "#     for sub_time_range in month_splitter(time_range[0], time_range[-1]):\n",
    "# #         print(f'  lazy loading {sub_time_range}...')\n",
    "#         try:\n",
    "#             data = fc_land_only.load(dc, dask_chunks=chunk_size, \n",
    "#                                      time=sub_time_range, \n",
    "#                                      geopolygon=geometry)\n",
    "# #             print(f'    lazy loaded {sub_time_range}')\n",
    "#         except ValueError:\n",
    "#             print(f'    Error, skipping...')\n",
    "#             continue\n",
    "\n",
    "#         if mask is None:\n",
    "#             mask = geometry_mask([geometry], data.geobox, invert=True, chunks=data.chunks)\n",
    "#             mask_int = mask * 1\n",
    "#             mask_int = mask_int.sum() * 100\n",
    "#         data = data.where(mask)\n",
    "# #         print(client.compute([data], sync=by_slice))\n",
    "#         data = data.resample(time='1MS').mean(dim='time', skipna=True)\n",
    "#         data = keepna(data, dim='time', thresh=0.9*int(mask.sum()))\n",
    "\n",
    "#         monthly_data = fc_summary(data,mask_int)\n",
    "#         monthly_data = monthly_data.where(monthly_data != 0)\n",
    "#         annual_data = monthly_data.resample(time='1YS').mean(dim='time', skipna=True)\n",
    "#         print(f\"    calculating for {dict(monthly_data.sizes)}\")\n",
    "#         monthly_data, annual_data = client.compute([monthly_data, annual_data], sync=by_slice)\n",
    "# #         monthly_data, annual_data = client.compute([monthly_data, annual_data], sync=by_slice)\n",
    "\n",
    "# #         print('data')\n",
    "# #         print(data)\n",
    "# #         print('mv')\n",
    "# #         print(monthly_data)\n",
    "# #         print('av')\n",
    "# #         print(annual_values)   \n",
    "#         monthly_values.append(monthly_data)\n",
    "#         annual_values.append(annual_data)\n",
    "        \n",
    "#     if not by_slice:\n",
    "#         print(\"  all years queried, hard load data\")\n",
    "#         monthly_values = client.gather(monthly_values)\n",
    "#         annual_values = client.gather(annual_values)\n",
    "\n",
    "\n",
    "#     print('b')\n",
    "#     monthly_values = xr.concat(monthly_values, dim='time').dropna(dim='time')\n",
    "#     annual_values02 = monthly_values.resample(time='1YS').mean(dim='time', skipna=True)\n",
    "#     print('c')    \n",
    "#     plot_stacked(monthly_values, catchment_id, show=False)\n",
    "#     print('d')\n",
    "#     annual_values = xr.concat(annual_values, dim='time').dropna(dim='time')\n",
    "#     print('e')\n",
    "    \n",
    "#     print(\"  all data loaded, save to csv\")\n",
    "#     monthly_values.to_dataframe().to_csv(f\"../output/{catchment_id}_monthly.csv\")\n",
    "#     annual_values.to_dataframe().to_csv(f\"../output/{catchment_id}_annual.csv\")\n",
    "#     annual_values02.to_dataframe().to_csv(f\"../output/{catchment_id}_annual02.csv\")\n",
    "#     return(monthly_values,annual_values,annual_values02)\n",
    "#     print(f\"  Catchment {catchment_id} done\")"
   ]
  },
  {
   "cell_type": "code",
   "execution_count": null,
   "metadata": {},
   "outputs": [],
   "source": []
  }
 ],
 "metadata": {
  "kernelspec": {
   "display_name": "Python 3",
   "language": "python",
   "name": "python3"
  },
  "language_info": {
   "codemirror_mode": {
    "name": "ipython",
    "version": 3
   },
   "file_extension": ".py",
   "mimetype": "text/x-python",
   "name": "python",
   "nbconvert_exporter": "python",
   "pygments_lexer": "ipython3",
   "version": "3.6.7"
  }
 },
 "nbformat": 4,
 "nbformat_minor": 2
}
